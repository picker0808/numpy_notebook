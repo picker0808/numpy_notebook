{
 "cells": [
  {
   "cell_type": "markdown",
   "metadata": {},
   "source": [
    "- ```np.diag()```：提取数组的对角线（可以通过参数k设置偏移对角线）元素，也可将一维数组变为相应的方阵。也可作为方法使用。"
   ]
  },
  {
   "cell_type": "code",
   "execution_count": 34,
   "metadata": {
    "ExecuteTime": {
     "end_time": "2018-11-12T12:49:22.498232Z",
     "start_time": "2018-11-12T12:49:22.444851Z"
    },
    "scrolled": true
   },
   "outputs": [
    {
     "data": {
      "text/plain": [
       "array([[ 0.82772744, -0.94389153,  0.31430266,  1.32507071],\n",
       "       [-0.96313735,  0.19410952, -0.70040036, -0.51109536],\n",
       "       [ 0.16790609,  0.276906  ,  0.32443793,  1.71006789],\n",
       "       [ 0.52573188,  0.99512444, -0.18908326, -0.3194369 ]])"
      ]
     },
     "execution_count": 34,
     "metadata": {},
     "output_type": "execute_result"
    },
    {
     "data": {
      "text/plain": [
       "array([ 0.82772744,  0.19410952,  0.32443793, -0.3194369 ])"
      ]
     },
     "execution_count": 34,
     "metadata": {},
     "output_type": "execute_result"
    },
    {
     "data": {
      "text/plain": [
       "array([ 0.82772744,  0.19410952,  0.32443793, -0.3194369 ])"
      ]
     },
     "execution_count": 34,
     "metadata": {},
     "output_type": "execute_result"
    },
    {
     "data": {
      "text/plain": [
       "array([[ 0.82772744,  0.        ,  0.        ,  0.        ],\n",
       "       [ 0.        ,  0.19410952,  0.        ,  0.        ],\n",
       "       [ 0.        ,  0.        ,  0.32443793,  0.        ],\n",
       "       [ 0.        ,  0.        ,  0.        , -0.3194369 ]])"
      ]
     },
     "execution_count": 34,
     "metadata": {},
     "output_type": "execute_result"
    }
   ],
   "source": [
    "import numpy as np\n",
    "from numpy.linalg import inv,qr,det,eig,svd,solve,lstsq\n",
    "x = np.random.randn(4,4)\n",
    "x\n",
    "np.diag(x)\n",
    "x.diagonal()\n",
    "np.diag(np.diag(x))"
   ]
  },
  {
   "cell_type": "markdown",
   "metadata": {},
   "source": [
    "- ```np.dot()```：矩阵的乘法运算。也可以作为方法运用。\n",
    "\n",
    "    另外，还可以使用$@$符号代替。"
   ]
  },
  {
   "cell_type": "code",
   "execution_count": 8,
   "metadata": {
    "ExecuteTime": {
     "end_time": "2018-11-12T10:30:13.222239Z",
     "start_time": "2018-11-12T10:30:13.111578Z"
    },
    "scrolled": true
   },
   "outputs": [
    {
     "data": {
      "text/plain": [
       "array([[ 4.46512575, -0.28703836, -0.88820773,  0.87982034],\n",
       "       [-0.28703836,  7.52096216,  2.74756973,  0.98120933],\n",
       "       [-0.88820773,  2.74756973,  5.32106906, -0.96571192],\n",
       "       [ 0.87982034,  0.98120933, -0.96571192,  0.6710886 ]])"
      ]
     },
     "execution_count": 8,
     "metadata": {},
     "output_type": "execute_result"
    },
    {
     "data": {
      "text/plain": [
       "array([[ 4.46512575, -0.28703836, -0.88820773,  0.87982034],\n",
       "       [-0.28703836,  7.52096216,  2.74756973,  0.98120933],\n",
       "       [-0.88820773,  2.74756973,  5.32106906, -0.96571192],\n",
       "       [ 0.87982034,  0.98120933, -0.96571192,  0.6710886 ]])"
      ]
     },
     "execution_count": 8,
     "metadata": {},
     "output_type": "execute_result"
    },
    {
     "data": {
      "text/plain": [
       "array([[ 4.46512575, -0.28703836, -0.88820773,  0.87982034],\n",
       "       [-0.28703836,  7.52096216,  2.74756973,  0.98120933],\n",
       "       [-0.88820773,  2.74756973,  5.32106906, -0.96571192],\n",
       "       [ 0.87982034,  0.98120933, -0.96571192,  0.6710886 ]])"
      ]
     },
     "execution_count": 8,
     "metadata": {},
     "output_type": "execute_result"
    }
   ],
   "source": [
    "x.dot(x.T)\n",
    "np.dot(x,x.T)\n",
    "x@x.T"
   ]
  },
  {
   "cell_type": "markdown",
   "metadata": {},
   "source": [
    "- ```np.trace()```：计算主对角元素的和。也可作为方法使用。"
   ]
  },
  {
   "cell_type": "code",
   "execution_count": 7,
   "metadata": {
    "ExecuteTime": {
     "end_time": "2018-11-12T10:11:35.060745Z",
     "start_time": "2018-11-12T10:11:35.029520Z"
    },
    "scrolled": true
   },
   "outputs": [
    {
     "data": {
      "text/plain": [
       "array([[-1.31651245,  1.24655329, -0.94878771, -0.52709346],\n",
       "       [ 2.22258153,  1.12242305, -0.93653895, -0.66644939],\n",
       "       [ 1.08419339, -0.09695685, -1.4740584 ,  1.40119412],\n",
       "       [ 0.01330356,  0.37375146, -0.05079741, -0.72707708]])"
      ]
     },
     "execution_count": 7,
     "metadata": {},
     "output_type": "execute_result"
    },
    {
     "data": {
      "text/plain": [
       "-2.39522488508046"
      ]
     },
     "execution_count": 7,
     "metadata": {},
     "output_type": "execute_result"
    },
    {
     "data": {
      "text/plain": [
       "-2.39522488508046"
      ]
     },
     "execution_count": 7,
     "metadata": {},
     "output_type": "execute_result"
    }
   ],
   "source": [
    "x = np.random.randn(4,4)\n",
    "x\n",
    "np.trace(x)\n",
    "x.trace()"
   ]
  },
  {
   "cell_type": "markdown",
   "metadata": {},
   "source": [
    "- ```np.linalg.det()```：计算所给矩阵的行列式值"
   ]
  },
  {
   "cell_type": "code",
   "execution_count": 16,
   "metadata": {
    "ExecuteTime": {
     "end_time": "2018-11-12T10:40:07.096100Z",
     "start_time": "2018-11-12T10:40:07.083138Z"
    }
   },
   "outputs": [
    {
     "data": {
      "text/plain": [
       "0.0"
      ]
     },
     "execution_count": 16,
     "metadata": {},
     "output_type": "execute_result"
    },
    {
     "data": {
      "text/plain": [
       "-11.000000000000002"
      ]
     },
     "execution_count": 16,
     "metadata": {},
     "output_type": "execute_result"
    }
   ],
   "source": [
    "x = np.array([[1,2,3],[4,5,6],[7,8,9]])\n",
    "y = np.array([[1,7,2],[3,2,1],[4,3,2]])\n",
    "det(x)\n",
    "det(y)"
   ]
  },
  {
   "cell_type": "markdown",
   "metadata": {},
   "source": [
    "- ```np.linalg.eig()```：计算所给矩阵的特征值和特征向量。"
   ]
  },
  {
   "cell_type": "code",
   "execution_count": 19,
   "metadata": {
    "ExecuteTime": {
     "end_time": "2018-11-12T10:44:18.465925Z",
     "start_time": "2018-11-12T10:44:18.052150Z"
    },
    "scrolled": false
   },
   "outputs": [
    {
     "data": {
      "text/plain": [
       "(array([ 1.30827625e+01, -8.35688847e-16,  9.17237470e-01]),\n",
       " array([[-0.28560932, -0.69853547, -0.38202165],\n",
       "        [-0.57121864, -0.46569032, -0.7640433 ],\n",
       "        [-0.76950411,  0.54330537,  0.51990123]]))"
      ]
     },
     "execution_count": 19,
     "metadata": {},
     "output_type": "execute_result"
    }
   ],
   "source": [
    "x = [[1,2,3],[2,4,6],[5,3,9]]\n",
    "eig(x)"
   ]
  },
  {
   "cell_type": "markdown",
   "metadata": {},
   "source": [
    "- ```np.linalg.inv()```：计算逆矩阵。"
   ]
  },
  {
   "cell_type": "code",
   "execution_count": 25,
   "metadata": {
    "ExecuteTime": {
     "end_time": "2018-11-12T11:05:26.954768Z",
     "start_time": "2018-11-12T11:05:26.942800Z"
    },
    "scrolled": true
   },
   "outputs": [
    {
     "data": {
      "text/plain": [
       "array([[-0.20293022,  1.25389884, -0.14518972],\n",
       "       [-0.83132752, -0.49523599,  0.68764279],\n",
       "       [-0.13959647, -0.23612156,  0.90204968]])"
      ]
     },
     "execution_count": 25,
     "metadata": {},
     "output_type": "execute_result"
    },
    {
     "data": {
      "text/plain": [
       "array([[ 1.00000000e+00,  4.44633767e-17, -2.07345653e-17],\n",
       "       [-1.52738601e-17,  1.00000000e+00,  1.16992610e-17],\n",
       "       [-1.08732632e-17, -1.88721121e-17,  1.00000000e+00]])"
      ]
     },
     "execution_count": 25,
     "metadata": {},
     "output_type": "execute_result"
    }
   ],
   "source": [
    "x = np.random.randn(3,3)\n",
    "inv(x)\n",
    "x.dot(inv(x))"
   ]
  },
  {
   "cell_type": "markdown",
   "metadata": {},
   "source": [
    "- ```np.linalg.qr()```：QR分解。"
   ]
  },
  {
   "cell_type": "code",
   "execution_count": 26,
   "metadata": {
    "ExecuteTime": {
     "end_time": "2018-11-12T11:06:47.163556Z",
     "start_time": "2018-11-12T11:06:46.862909Z"
    }
   },
   "outputs": [
    {
     "data": {
      "text/plain": [
       "(array([[-0.39259493, -0.90771541, -0.14806064],\n",
       "        [ 0.90279966, -0.34961895, -0.25043836],\n",
       "        [ 0.17556195, -0.23198993,  0.95674379]]),\n",
       " array([[ 0.84302885,  0.24197161,  0.14585787],\n",
       "        [ 0.        ,  1.30169945, -1.24948126],\n",
       "        [ 0.        ,  0.        ,  1.06063314]]))"
      ]
     },
     "execution_count": 26,
     "metadata": {},
     "output_type": "execute_result"
    }
   ],
   "source": [
    "qr(x)"
   ]
  },
  {
   "cell_type": "markdown",
   "metadata": {},
   "source": [
    "- ```np.linalg.svd()```：奇异值分解。"
   ]
  },
  {
   "cell_type": "code",
   "execution_count": 29,
   "metadata": {
    "ExecuteTime": {
     "end_time": "2018-11-12T11:09:52.480075Z",
     "start_time": "2018-11-12T11:09:52.457942Z"
    },
    "scrolled": false
   },
   "outputs": [
    {
     "data": {
      "text/plain": [
       "(array([[-5.34522484e-01, -9.06988786e-17, -8.45154255e-01],\n",
       "        [ 2.67261242e-01, -9.48683298e-01, -1.69030851e-01],\n",
       "        [-8.01783726e-01, -3.16227766e-01,  5.07092553e-01]]),\n",
       " array([2.64575131, 2.23606798]),\n",
       " array([[-0.70710678, -0.70710678],\n",
       "        [-0.70710678,  0.70710678]]))"
      ]
     },
     "execution_count": 29,
     "metadata": {},
     "output_type": "execute_result"
    }
   ],
   "source": [
    "# 中间的矩阵为奇异值矩阵，因为除了对角线的值都为0，且从大到小排列，因此省略的表示为一维矩阵。\n",
    "x = [[1,1],[1,-2],[2,1]]\n",
    "svd()"
   ]
  },
  {
   "cell_type": "markdown",
   "metadata": {},
   "source": [
    "- ```np.linalg.solve()```：计算非齐次方程组$Ax=b$的$x$值，其中A为方阵。"
   ]
  },
  {
   "cell_type": "code",
   "execution_count": 33,
   "metadata": {
    "ExecuteTime": {
     "end_time": "2018-11-12T11:51:31.282749Z",
     "start_time": "2018-11-12T11:51:31.102249Z"
    }
   },
   "outputs": [
    {
     "data": {
      "text/plain": [
       "array([-2.00000000e+00, -4.75809868e-17,  1.00000000e+00])"
      ]
     },
     "execution_count": 33,
     "metadata": {},
     "output_type": "execute_result"
    }
   ],
   "source": [
    "A = [[1,2,3],[1,4,3],[3,5,7]]\n",
    "solve(A,[1,1,1])"
   ]
  },
  {
   "cell_type": "markdown",
   "metadata": {},
   "source": [
    "- ```np.linarg.lstsq()```：计算非齐次方程组$Ax=b$的最小二乘解。"
   ]
  },
  {
   "cell_type": "code",
   "execution_count": 36,
   "metadata": {
    "ExecuteTime": {
     "end_time": "2018-11-12T12:51:50.858862Z",
     "start_time": "2018-11-12T12:51:50.847894Z"
    },
    "scrolled": true
   },
   "outputs": [
    {
     "data": {
      "text/plain": [
       "(array([-2.0000000e+00,  4.4408921e-16,  1.0000000e+00]),\n",
       " array([], dtype=float64),\n",
       " 3,\n",
       " array([10.99009678,  1.46844817,  0.24785624]))"
      ]
     },
     "execution_count": 36,
     "metadata": {},
     "output_type": "execute_result"
    }
   ],
   "source": [
    "A = [[1,2,3],[1,4,3],[3,5,7]]\n",
    "lstsq(A,[1,1,1],rcond=None)"
   ]
  }
 ],
 "metadata": {
  "kernelspec": {
   "display_name": "Python 3",
   "language": "python",
   "name": "python3"
  },
  "language_info": {
   "codemirror_mode": {
    "name": "ipython",
    "version": 3
   },
   "file_extension": ".py",
   "mimetype": "text/x-python",
   "name": "python",
   "nbconvert_exporter": "python",
   "pygments_lexer": "ipython3",
   "version": "3.6.5"
  },
  "toc": {
   "base_numbering": 1,
   "nav_menu": {},
   "number_sections": false,
   "sideBar": true,
   "skip_h1_title": false,
   "title_cell": "Table of Contents",
   "title_sidebar": "Contents",
   "toc_cell": false,
   "toc_position": {},
   "toc_section_display": true,
   "toc_window_display": false
  },
  "varInspector": {
   "cols": {
    "lenName": 16,
    "lenType": 16,
    "lenVar": 40
   },
   "kernels_config": {
    "python": {
     "delete_cmd_postfix": "",
     "delete_cmd_prefix": "del ",
     "library": "var_list.py",
     "varRefreshCmd": "print(var_dic_list())"
    },
    "r": {
     "delete_cmd_postfix": ") ",
     "delete_cmd_prefix": "rm(",
     "library": "var_list.r",
     "varRefreshCmd": "cat(var_dic_list()) "
    }
   },
   "types_to_exclude": [
    "module",
    "function",
    "builtin_function_or_method",
    "instance",
    "_Feature"
   ],
   "window_display": false
  }
 },
 "nbformat": 4,
 "nbformat_minor": 2
}
