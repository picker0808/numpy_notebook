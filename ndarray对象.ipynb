{
 "cells": [
  {
   "cell_type": "markdown",
   "metadata": {},
   "source": [
    "# ndarray的创建\n",
    "## 从已有数组创建\n",
    "### 使用np.array()由python list进行创建\n",
    "- numpy默认ndarray的所有元素类型相同\n",
    "\n",
    "- 如果传入的列表包含不同类型，则自动统一为相同类型，优先级：str>float>int\n",
    "\n",
    "- np.shape查看数组形状，np.reshape修改形状但不改变原数组，np.resize就地修改原数组  \n",
    "\n",
    "### np.copy、np.asarray()和np.asanyarray()  \n",
    "- np.copy()复制一个指定数组\n",
    "- np.asarray()和np.asanyarray()两者都将传入数组变为ndarray或其子类\n",
    "- 区别在于asarray()将原数组类型变为ndarray, asanyarray()则保留原数组的数据类型(ndarray的子类)  \n",
    "\n",
    "\n"
   ]
  },
  {
   "cell_type": "code",
   "execution_count": 51,
   "metadata": {
    "ExecuteTime": {
     "end_time": "2018-11-10T02:59:39.688691Z",
     "start_time": "2018-11-10T02:59:39.673069Z"
    }
   },
   "outputs": [
    {
     "name": "stdout",
     "output_type": "stream",
     "text": [
      "True\n",
      "<class 'numpy.ndarray'>\n",
      "False\n",
      "True\n"
     ]
    }
   ],
   "source": [
    "import numpy as np\n",
    "\n",
    "print(issubclass(np.matrix, np.ndarray))\n",
    "\n",
    "a = np.matrix([[1, 2]])\n",
    "print(type(np.asarray(a)))\n",
    "print(np.asarray(a) is a)\n",
    "\n",
    "print(np.asanyarray(a) is a)\n"
   ]
  },
  {
   "cell_type": "markdown",
   "metadata": {},
   "source": [
    "\n",
    "### np.fromstring()\n",
    "\n"
   ]
  },
  {
   "cell_type": "code",
   "execution_count": 52,
   "metadata": {
    "ExecuteTime": {
     "end_time": "2018-11-10T02:59:39.704310Z",
     "start_time": "2018-11-10T02:59:39.688691Z"
    },
    "scrolled": false
   },
   "outputs": [
    {
     "name": "stdout",
     "output_type": "stream",
     "text": [
      "[1 2]\n",
      "[1 2]\n"
     ]
    }
   ],
   "source": [
    "a = np.fromstring('1 2', dtype=int, sep=' ')\n",
    "b = np.fromstring('1, 2', dtype=int, sep=',')\n",
    "print(a)\n",
    "print(b)"
   ]
  },
  {
   "cell_type": "markdown",
   "metadata": {},
   "source": [
    "## 使用routines函数进行创建\n",
    "- np.empty(shape, dtype=float, order='C')  \n",
    "__创建具有形状和数据类型的数组，其中的数据都是未初始化数据__  \n",
    "\n",
    "\n",
    "- np.empty_like(a, dtype=None, order='K', subok=True)  \n",
    "__创建一个和a数组同形的数组，subok=True则为a的子集类__\n",
    "\n"
   ]
  },
  {
   "cell_type": "code",
   "execution_count": 53,
   "metadata": {
    "ExecuteTime": {
     "end_time": "2018-11-10T02:59:39.719929Z",
     "start_time": "2018-11-10T02:59:39.704310Z"
    },
    "scrolled": true
   },
   "outputs": [
    {
     "name": "stdout",
     "output_type": "stream",
     "text": [
      "[[0.0e+000 9.9e-324]\n",
      " [1.5e-323 2.0e-323]]\n",
      "[[0.0e+000 9.9e-324]\n",
      " [1.5e-323 2.0e-323]]\n"
     ]
    }
   ],
   "source": [
    "a = np.empty((2,2))\n",
    "b = np.empty_like(a)\n",
    "print(a)\n",
    "print(b)"
   ]
  },
  {
   "cell_type": "markdown",
   "metadata": {},
   "source": [
    "- np.linspace(start, stop, num=50, endpoint=True, retstep=False, dtype=None)  \n",
    "__其中，start为起始数，stop为终止数，num为取多少个数据，默认为50，endpoint=True时，stop包含在数组中，False则不包含。retstep=True可显示步长__\n",
    "\n",
    "\n",
    "- np.ones(shape, dtype=None, order='C')  \n",
    "__指定shape，创建全是1的数组__  \n",
    "*np.ones_like则创建与指定数组同形的全为1数组*\n",
    "\n",
    "\n",
    "- np.zeros(shape, dtype=float, order='C')  \n",
    "__指定shape，创建全是0的数组__   \n",
    "*np.zeros_like则创建与指定数组同形的全为0数组*  \n",
    "\n",
    "\n",
    "- np.full(shape, fill_value, dtype=None, order='C')  \n",
    "__指定shape，fill_value,创建全是指定值的数组__  \n",
    "*np.full_like则创建与指定数组同形的全为fill_value的数组*\n",
    "\n",
    "\n",
    "- np.eye(N, M=None, k=0, dtype=float)  \n",
    "__其中N位行数，M为列数，缺省为方阵。k为主轴偏移量，见实例__  \n"
   ]
  },
  {
   "cell_type": "code",
   "execution_count": 54,
   "metadata": {
    "ExecuteTime": {
     "end_time": "2018-11-10T02:59:39.735551Z",
     "start_time": "2018-11-10T02:59:39.719929Z"
    },
    "code_folding": [],
    "scrolled": false
   },
   "outputs": [
    {
     "name": "stdout",
     "output_type": "stream",
     "text": [
      "[[1. 0. 0.]\n",
      " [0. 1. 0.]\n",
      " [0. 0. 1.]]\n",
      "[[0. 1. 0.]\n",
      " [0. 0. 1.]\n",
      " [0. 0. 0.]]\n",
      "[[0. 0. 0.]\n",
      " [1. 0. 0.]\n",
      " [0. 1. 0.]]\n"
     ]
    }
   ],
   "source": [
    "# np.eye()中关于参数 k 的实例\n",
    "a = np.eye(3, k=0)\n",
    "b = np.eye(3, k=1)\n",
    "c = np.eye(3, k=-1)\n",
    "print(a)\n",
    "print(b)\n",
    "print(c)"
   ]
  },
  {
   "cell_type": "markdown",
   "metadata": {},
   "source": [
    "- np.identity(n, dtype=None)  \n",
    "__创建主轴为1，其余为0的方阵，与np.eye功能相同，区别在于np.eye可以指定M参数以创建非方阵__\n",
    "\n",
    "\n",
    "- np.ones"
   ]
  },
  {
   "cell_type": "markdown",
   "metadata": {
    "cell_style": "center"
   },
   "source": [
    "# ```ndarray```数组的索引和切片"
   ]
  },
  {
   "cell_type": "markdown",
   "metadata": {},
   "source": [
    "## ```ndarray```切片操作的不复制性"
   ]
  },
  {
   "cell_type": "markdown",
   "metadata": {},
   "source": [
    "numpy的数组切片操作不会复制产生一个新的数组，它的操作只是原始数组的一个“view”"
   ]
  },
  {
   "cell_type": "code",
   "execution_count": 55,
   "metadata": {
    "ExecuteTime": {
     "end_time": "2018-11-10T02:59:39.751173Z",
     "start_time": "2018-11-10T02:59:39.735551Z"
    }
   },
   "outputs": [
    {
     "data": {
      "text/plain": [
       "array([0, 1, 2, 3, 4, 5, 6, 7, 8, 9])"
      ]
     },
     "execution_count": 55,
     "metadata": {},
     "output_type": "execute_result"
    },
    {
     "data": {
      "text/plain": [
       "array([  0,   1,   2, 100, 100, 100,   6,   7,   8,   9])"
      ]
     },
     "execution_count": 55,
     "metadata": {},
     "output_type": "execute_result"
    }
   ],
   "source": [
    "a = np.arange(10)\n",
    "a\n",
    "a_slice = a[3:6]\n",
    "a_slice[:] = 100\n",
    "a"
   ]
  },
  {
   "cell_type": "markdown",
   "metadata": {},
   "source": [
    "## ```ndarray```的布尔索引"
   ]
  },
  {
   "cell_type": "markdown",
   "metadata": {},
   "source": [
    "### ```ndarray```进行布尔索引时，**可以混合切片操作对数组进行索引。**"
   ]
  },
  {
   "cell_type": "code",
   "execution_count": 56,
   "metadata": {
    "ExecuteTime": {
     "end_time": "2018-11-10T02:59:39.782413Z",
     "start_time": "2018-11-10T02:59:39.751173Z"
    },
    "scrolled": true
   },
   "outputs": [
    {
     "data": {
      "text/plain": [
       "array([[ 0.3281357 ,  0.77819138, -1.06037078,  0.6710272 ],\n",
       "       [ 1.03107881, -0.64941308,  0.99174844, -0.09666809],\n",
       "       [ 1.08956805, -1.85883489,  0.75539183,  1.03702654],\n",
       "       [ 0.93663118,  0.31664813, -0.22306418, -1.16719356],\n",
       "       [ 1.1681664 ,  0.40892485,  0.65609603,  0.72212127],\n",
       "       [ 0.50004679, -0.00891231, -0.67754652, -0.46754675],\n",
       "       [-0.16990487, -1.44915673,  0.43844795,  1.24728752]])"
      ]
     },
     "execution_count": 56,
     "metadata": {},
     "output_type": "execute_result"
    },
    {
     "data": {
      "text/plain": [
       "array([[ 0.3281357 ,  0.77819138, -1.06037078,  0.6710272 ],\n",
       "       [ 0.93663118,  0.31664813, -0.22306418, -1.16719356]])"
      ]
     },
     "execution_count": 56,
     "metadata": {},
     "output_type": "execute_result"
    },
    {
     "data": {
      "text/plain": [
       "array([[ 0.77819138, -1.06037078,  0.6710272 ],\n",
       "       [ 0.31664813, -0.22306418, -1.16719356]])"
      ]
     },
     "execution_count": 56,
     "metadata": {},
     "output_type": "execute_result"
    }
   ],
   "source": [
    "a = np.random.randn(7,4)\n",
    "a\n",
    "names = np.array(['Bob', 'Joe', 'Will', 'Bob', 'Will', 'Joe', 'Joe'])\n",
    "a[names == 'Bob']\n",
    "\n",
    "# 布尔索引和切片操作混合使用\n",
    "a[names == 'Bob',1:]"
   ]
  },
  {
   "cell_type": "markdown",
   "metadata": {},
   "source": [
    "### 使用`~`操作符来进行反选"
   ]
  },
  {
   "cell_type": "code",
   "execution_count": 57,
   "metadata": {
    "ExecuteTime": {
     "end_time": "2018-11-10T02:59:39.813651Z",
     "start_time": "2018-11-10T02:59:39.782413Z"
    },
    "scrolled": true
   },
   "outputs": [
    {
     "data": {
      "text/plain": [
       "array([[ 0.3281357 ,  0.77819138, -1.06037078,  0.6710272 ],\n",
       "       [ 0.93663118,  0.31664813, -0.22306418, -1.16719356]])"
      ]
     },
     "execution_count": 57,
     "metadata": {},
     "output_type": "execute_result"
    },
    {
     "data": {
      "text/plain": [
       "array([[ 1.03107881, -0.64941308,  0.99174844, -0.09666809],\n",
       "       [ 1.08956805, -1.85883489,  0.75539183,  1.03702654],\n",
       "       [ 1.1681664 ,  0.40892485,  0.65609603,  0.72212127],\n",
       "       [ 0.50004679, -0.00891231, -0.67754652, -0.46754675],\n",
       "       [-0.16990487, -1.44915673,  0.43844795,  1.24728752]])"
      ]
     },
     "execution_count": 57,
     "metadata": {},
     "output_type": "execute_result"
    }
   ],
   "source": [
    "a[names == 'Bob']\n",
    "a[~(names == 'Bob')]"
   ]
  },
  {
   "cell_type": "markdown",
   "metadata": {},
   "source": [
    "### 使用布尔运算操作符`&`和`|`进行复合索引"
   ]
  },
  {
   "cell_type": "code",
   "execution_count": 58,
   "metadata": {
    "ExecuteTime": {
     "end_time": "2018-11-10T02:59:39.844894Z",
     "start_time": "2018-11-10T02:59:39.813651Z"
    }
   },
   "outputs": [
    {
     "data": {
      "text/plain": [
       "array([[ 1.03107881, -0.64941308,  0.99174844, -0.09666809],\n",
       "       [ 0.50004679, -0.00891231, -0.67754652, -0.46754675],\n",
       "       [-0.16990487, -1.44915673,  0.43844795,  1.24728752]])"
      ]
     },
     "execution_count": 58,
     "metadata": {},
     "output_type": "execute_result"
    }
   ],
   "source": [
    "cond = (names == 'Bob')|(names == 'Will')\n",
    "a[~cond]"
   ]
  },
  {
   "cell_type": "markdown",
   "metadata": {
    "ExecuteTime": {
     "end_time": "2018-11-10T02:57:47.054446Z",
     "start_time": "2018-11-10T02:57:47.046466Z"
    }
   },
   "source": [
    "### 布尔索引和切片索引在复制性上的区别"
   ]
  },
  {
   "cell_type": "markdown",
   "metadata": {},
   "source": [
    "与切片索引不同（切片返回的只是原数组的一个‘view’，具有不复制性），**布尔索引总是会复制原数组的目标部分。**"
   ]
  },
  {
   "cell_type": "code",
   "execution_count": 70,
   "metadata": {
    "ExecuteTime": {
     "end_time": "2018-11-10T03:02:51.488345Z",
     "start_time": "2018-11-10T03:02:51.472723Z"
    },
    "scrolled": false
   },
   "outputs": [
    {
     "data": {
      "text/plain": [
       "array([[100., 100., 100., 100.],\n",
       "       [100., 100., 100., 100.]])"
      ]
     },
     "execution_count": 70,
     "metadata": {},
     "output_type": "execute_result"
    },
    {
     "data": {
      "text/plain": [
       "array([[ 0.3281357 ,  0.77819138, -1.06037078,  0.6710272 ],\n",
       "       [ 1.03107881, -0.64941308,  0.99174844, -0.09666809],\n",
       "       [ 1.08956805, -1.85883489,  0.75539183,  1.03702654],\n",
       "       [ 0.93663118,  0.31664813, -0.22306418, -1.16719356],\n",
       "       [ 1.1681664 ,  0.40892485,  0.65609603,  0.72212127],\n",
       "       [ 0.50004679, -0.00891231, -0.67754652, -0.46754675],\n",
       "       [-0.16990487, -1.44915673,  0.43844795,  1.24728752]])"
      ]
     },
     "execution_count": 70,
     "metadata": {},
     "output_type": "execute_result"
    }
   ],
   "source": [
    "# 对布尔索引返回的数组进行重新赋值，不会影响到原数组\n",
    "b= a[names == 'Bob']\n",
    "b[:]=100\n",
    "b\n",
    "a"
   ]
  },
  {
   "cell_type": "code",
   "execution_count": 78,
   "metadata": {
    "ExecuteTime": {
     "end_time": "2018-11-10T03:26:11.741512Z",
     "start_time": "2018-11-10T03:26:11.710270Z"
    },
    "scrolled": true
   },
   "outputs": [
    {
     "data": {
      "text/plain": [
       "array([100.])"
      ]
     },
     "execution_count": 78,
     "metadata": {},
     "output_type": "execute_result"
    },
    {
     "data": {
      "text/plain": [
       "array([[ 3.28135700e-01,  7.78191380e-01, -1.06037078e+00,\n",
       "         6.71027201e-01],\n",
       "       [ 1.03107881e+00,  1.00000000e+02,  9.91748443e-01,\n",
       "        -9.66680887e-02],\n",
       "       [ 1.08956805e+00, -1.85883489e+00,  7.55391834e-01,\n",
       "         1.03702654e+00],\n",
       "       [ 9.36631185e-01,  3.16648128e-01, -2.23064183e-01,\n",
       "        -1.16719356e+00],\n",
       "       [ 1.16816640e+00,  4.08924849e-01,  6.56096034e-01,\n",
       "         7.22121270e-01],\n",
       "       [ 5.00046795e-01, -8.91230817e-03, -6.77546523e-01,\n",
       "        -4.67546751e-01],\n",
       "       [-1.69904874e-01, -1.44915673e+00,  4.38447955e-01,\n",
       "         1.24728752e+00]])"
      ]
     },
     "execution_count": 78,
     "metadata": {},
     "output_type": "execute_result"
    }
   ],
   "source": [
    "# 对切片索引返回的数组重新赋值，原数组也随之改变\n",
    "b=a[1,1:2]\n",
    "b\n",
    "b[0]=100\n",
    "a"
   ]
  },
  {
   "cell_type": "markdown",
   "metadata": {},
   "source": [
    "### 利用布尔索引重新赋值特定值"
   ]
  },
  {
   "cell_type": "code",
   "execution_count": 89,
   "metadata": {
    "ExecuteTime": {
     "end_time": "2018-11-10T03:35:12.254851Z",
     "start_time": "2018-11-10T03:35:12.236900Z"
    },
    "scrolled": false
   },
   "outputs": [
    {
     "data": {
      "text/plain": [
       "array([[0.        , 0.        , 0.        , 0.        , 0.        ],\n",
       "       [0.        , 0.        , 0.        , 0.        , 0.        ],\n",
       "       [0.        , 1.2015319 , 0.        , 1.39764022, 1.38085077],\n",
       "       [0.        , 1.32871652, 0.        , 3.20534882, 1.10886823],\n",
       "       [0.        , 0.        , 0.        , 0.        , 1.1905394 ]])"
      ]
     },
     "execution_count": 89,
     "metadata": {},
     "output_type": "execute_result"
    },
    {
     "data": {
      "text/plain": [
       "array([[1.        , 1.        , 1.        , 1.        , 1.        ],\n",
       "       [1.        , 1.        , 1.        , 1.        , 1.        ],\n",
       "       [1.        , 1.2015319 , 1.        , 1.39764022, 1.38085077],\n",
       "       [1.        , 1.32871652, 1.        , 3.20534882, 1.10886823],\n",
       "       [1.        , 1.        , 1.        , 1.        , 1.1905394 ]])"
      ]
     },
     "execution_count": 89,
     "metadata": {},
     "output_type": "execute_result"
    }
   ],
   "source": [
    "data = np.random.randn(5,5)\n",
    "data[data<1]=0\n",
    "data\n",
    "data[data==0]=1\n",
    "data"
   ]
  },
  {
   "cell_type": "markdown",
   "metadata": {},
   "source": [
    "### 花式索引"
   ]
  },
  {
   "cell_type": "code",
   "execution_count": 106,
   "metadata": {
    "ExecuteTime": {
     "end_time": "2018-11-10T03:56:27.154369Z",
     "start_time": "2018-11-10T03:56:27.119464Z"
    },
    "scrolled": false
   },
   "outputs": [
    {
     "data": {
      "text/plain": [
       "array([[0., 0., 0., 0., 0.],\n",
       "       [1., 1., 1., 1., 1.],\n",
       "       [2., 2., 2., 2., 2.],\n",
       "       [3., 3., 3., 3., 3.],\n",
       "       [4., 4., 4., 4., 4.]])"
      ]
     },
     "execution_count": 106,
     "metadata": {},
     "output_type": "execute_result"
    },
    {
     "data": {
      "text/plain": [
       "array([[4., 4., 4., 4., 4.],\n",
       "       [2., 2., 2., 2., 2.],\n",
       "       [0., 0., 0., 0., 0.]])"
      ]
     },
     "execution_count": 106,
     "metadata": {},
     "output_type": "execute_result"
    },
    {
     "data": {
      "text/plain": [
       "array([[4., 4., 4., 4., 4.],\n",
       "       [2., 2., 2., 2., 2.],\n",
       "       [0., 0., 0., 0., 0.]])"
      ]
     },
     "execution_count": 106,
     "metadata": {},
     "output_type": "execute_result"
    },
    {
     "data": {
      "text/plain": [
       "array([4., 2., 0.])"
      ]
     },
     "execution_count": 106,
     "metadata": {},
     "output_type": "execute_result"
    },
    {
     "data": {
      "text/plain": [
       "array([4., 2., 0.])"
      ]
     },
     "execution_count": 106,
     "metadata": {},
     "output_type": "execute_result"
    },
    {
     "data": {
      "text/plain": [
       "array([[4., 4., 4.],\n",
       "       [2., 2., 2.],\n",
       "       [0., 0., 0.]])"
      ]
     },
     "execution_count": 106,
     "metadata": {},
     "output_type": "execute_result"
    }
   ],
   "source": [
    "data=np.empty((5,5))\n",
    "for i in range(5):\n",
    "    data[i] = i\n",
    "data\n",
    "data[[4,2,0]]\n",
    "data[[4,2,0],:]\n",
    "data[[4,2,0],[1]]\n",
    "# data[[4,2,0],[1,2]] 由于维度不匹配，会引起错误\n",
    "data[[4,2,0],[1,2,4]]  # 两个数组的值一一对应形成了3个坐标点，返回一个一维数组\n",
    "data[[4,2,0]][:,[1,2,4]]  # 通过两次花式索引返回一个矩形方框内的数组"
   ]
  },
  {
   "cell_type": "markdown",
   "metadata": {},
   "source": [
    "需要注意的是：\n",
    "\n",
    "- 花式索引和布尔索引一样，会创建原数组的一个复制。\n",
    "- 切片索引则只是原数组的一个‘view’，其上的操作不会改变原数组。"
   ]
  },
  {
   "cell_type": "code",
   "execution_count": null,
   "metadata": {},
   "outputs": [],
   "source": []
  },
  {
   "cell_type": "code",
   "execution_count": null,
   "metadata": {},
   "outputs": [],
   "source": []
  }
 ],
 "metadata": {
  "kernelspec": {
   "display_name": "Python 3",
   "language": "python",
   "name": "python3"
  },
  "language_info": {
   "codemirror_mode": {
    "name": "ipython",
    "version": 3
   },
   "file_extension": ".py",
   "mimetype": "text/x-python",
   "name": "python",
   "nbconvert_exporter": "python",
   "pygments_lexer": "ipython3",
   "version": "3.6.5"
  },
  "toc": {
   "base_numbering": 1,
   "nav_menu": {
    "height": "268px",
    "width": "709px"
   },
   "number_sections": true,
   "sideBar": true,
   "skip_h1_title": false,
   "title_cell": "Table of Contents",
   "title_sidebar": "Contents",
   "toc_cell": false,
   "toc_position": {},
   "toc_section_display": true,
   "toc_window_display": true
  },
  "varInspector": {
   "cols": {
    "lenName": 16,
    "lenType": 16,
    "lenVar": 40
   },
   "kernels_config": {
    "python": {
     "delete_cmd_postfix": "",
     "delete_cmd_prefix": "del ",
     "library": "var_list.py",
     "varRefreshCmd": "print(var_dic_list())"
    },
    "r": {
     "delete_cmd_postfix": ") ",
     "delete_cmd_prefix": "rm(",
     "library": "var_list.r",
     "varRefreshCmd": "cat(var_dic_list()) "
    }
   },
   "types_to_exclude": [
    "module",
    "function",
    "builtin_function_or_method",
    "instance",
    "_Feature"
   ],
   "window_display": false
  }
 },
 "nbformat": 4,
 "nbformat_minor": 2
}
