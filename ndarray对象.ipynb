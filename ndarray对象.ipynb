{
 "cells": [
  {
   "cell_type": "markdown",
   "metadata": {},
   "source": [
    "# ndarray的创建\n",
    "## 从已有数组创建\n",
    "### 使用np.array()由python list进行创建\n",
    "- numpy默认ndarray的所有元素类型相同\n",
    "\n",
    "- 如果传入的列表包含不同类型，则自动统一为相同类型，优先级：str>float>int\n",
    "\n",
    "- np.shape查看数组形状，np.reshape修改形状但不改变原数组，np.resize就地修改原数组  \n",
    "\n",
    "### np.copy、np.asarray()和np.asanyarray()  \n",
    "- np.copy()复制一个指定数组\n",
    "- np.asarray()和np.asanyarray()两者都将传入数组变为ndarray或其子类\n",
    "- 区别在于asarray()将原数组类型变为ndarray, asanyarray()则保留原数组的数据类型(ndarray的子类)  \n",
    "\n",
    "\n"
   ]
  },
  {
   "cell_type": "code",
   "execution_count": 1,
   "metadata": {
    "ExecuteTime": {
     "end_time": "2018-11-10T09:21:53.563542Z",
     "start_time": "2018-11-10T09:21:53.240407Z"
    }
   },
   "outputs": [
    {
     "name": "stdout",
     "output_type": "stream",
     "text": [
      "True\n",
      "<class 'numpy.ndarray'>\n",
      "False\n",
      "True\n"
     ]
    }
   ],
   "source": [
    "import numpy as np\n",
    "\n",
    "print(issubclass(np.matrix, np.ndarray))\n",
    "\n",
    "a = np.matrix([[1, 2]])\n",
    "print(type(np.asarray(a)))\n",
    "print(np.asarray(a) is a)\n",
    "\n",
    "print(np.asanyarray(a) is a)\n"
   ]
  },
  {
   "cell_type": "markdown",
   "metadata": {},
   "source": [
    "\n",
    "### np.fromstring()\n",
    "\n"
   ]
  },
  {
   "cell_type": "code",
   "execution_count": 2,
   "metadata": {
    "ExecuteTime": {
     "end_time": "2018-11-10T09:21:53.585483Z",
     "start_time": "2018-11-10T09:21:53.568530Z"
    },
    "scrolled": false
   },
   "outputs": [
    {
     "name": "stdout",
     "output_type": "stream",
     "text": [
      "[1 2]\n",
      "[1 2]\n"
     ]
    }
   ],
   "source": [
    "a = np.fromstring('1 2', dtype=int, sep=' ')\n",
    "b = np.fromstring('1, 2', dtype=int, sep=',')\n",
    "print(a)\n",
    "print(b)"
   ]
  },
  {
   "cell_type": "markdown",
   "metadata": {},
   "source": [
    "## 使用routines函数进行创建\n",
    "- np.empty(shape, dtype=float, order='C')  \n",
    "__创建具有形状和数据类型的数组，其中的数据都是未初始化数据__  \n",
    "\n",
    "\n",
    "- np.empty_like(a, dtype=None, order='K', subok=True)  \n",
    "__创建一个和a数组同形的数组，subok=True则为a的子集类__\n",
    "\n"
   ]
  },
  {
   "cell_type": "code",
   "execution_count": 3,
   "metadata": {
    "ExecuteTime": {
     "end_time": "2018-11-10T09:21:53.876706Z",
     "start_time": "2018-11-10T09:21:53.590470Z"
    },
    "scrolled": true
   },
   "outputs": [
    {
     "name": "stdout",
     "output_type": "stream",
     "text": [
      "[[1.04263642e-311 8.01304531e+262]\n",
      " [2.60799828e-310 6.01346930e-154]]\n",
      "[[2.42767960e-154 2.93573416e+222]\n",
      " [3.75828563e+199 4.35529477e-114]]\n"
     ]
    }
   ],
   "source": [
    "a = np.empty((2,2))\n",
    "b = np.empty_like(a)\n",
    "print(a)\n",
    "print(b)"
   ]
  },
  {
   "cell_type": "markdown",
   "metadata": {},
   "source": [
    "- np.linspace(start, stop, num=50, endpoint=True, retstep=False, dtype=None)  \n",
    "__其中，start为起始数，stop为终止数，num为取多少个数据，默认为50，endpoint=True时，stop包含在数组中，False则不包含。retstep=True可显示步长__\n",
    "\n",
    "\n",
    "- np.ones(shape, dtype=None, order='C')  \n",
    "__指定shape，创建全是1的数组__  \n",
    "*np.ones_like则创建与指定数组同形的全为1数组*\n",
    "\n",
    "\n",
    "- np.zeros(shape, dtype=float, order='C')  \n",
    "__指定shape，创建全是0的数组__   \n",
    "*np.zeros_like则创建与指定数组同形的全为0数组*  \n",
    "\n",
    "\n",
    "- np.full(shape, fill_value, dtype=None, order='C')  \n",
    "__指定shape，fill_value,创建全是指定值的数组__  \n",
    "*np.full_like则创建与指定数组同形的全为fill_value的数组*\n",
    "\n",
    "\n",
    "- np.eye(N, M=None, k=0, dtype=float)  \n",
    "__其中N位行数，M为列数，缺省为方阵。k为主轴偏移量，见实例__  \n"
   ]
  },
  {
   "cell_type": "code",
   "execution_count": 4,
   "metadata": {
    "ExecuteTime": {
     "end_time": "2018-11-10T09:21:53.890668Z",
     "start_time": "2018-11-10T09:21:53.881695Z"
    },
    "code_folding": [],
    "scrolled": false
   },
   "outputs": [
    {
     "name": "stdout",
     "output_type": "stream",
     "text": [
      "[[1. 0. 0.]\n",
      " [0. 1. 0.]\n",
      " [0. 0. 1.]]\n",
      "[[0. 1. 0.]\n",
      " [0. 0. 1.]\n",
      " [0. 0. 0.]]\n",
      "[[0. 0. 0.]\n",
      " [1. 0. 0.]\n",
      " [0. 1. 0.]]\n"
     ]
    }
   ],
   "source": [
    "# np.eye()中关于参数 k 的实例\n",
    "a = np.eye(3, k=0)\n",
    "b = np.eye(3, k=1)\n",
    "c = np.eye(3, k=-1)\n",
    "print(a)\n",
    "print(b)\n",
    "print(c)"
   ]
  },
  {
   "cell_type": "markdown",
   "metadata": {},
   "source": [
    "- np.identity(n, dtype=None)  \n",
    "__创建主轴为1，其余为0的方阵，与np.eye功能相同，区别在于np.eye可以指定M参数以创建非方阵__\n",
    "\n",
    "\n",
    "- np.ones"
   ]
  },
  {
   "cell_type": "markdown",
   "metadata": {
    "cell_style": "center"
   },
   "source": [
    "# ```ndarray```数组的索引和切片"
   ]
  },
  {
   "cell_type": "markdown",
   "metadata": {},
   "source": [
    "## ```ndarray```切片操作的不复制性"
   ]
  },
  {
   "cell_type": "markdown",
   "metadata": {},
   "source": [
    "numpy的数组切片操作不会复制产生一个新的数组，它的操作只是原始数组的一个“view”"
   ]
  },
  {
   "cell_type": "code",
   "execution_count": 5,
   "metadata": {
    "ExecuteTime": {
     "end_time": "2018-11-10T09:21:53.934550Z",
     "start_time": "2018-11-10T09:21:53.894657Z"
    }
   },
   "outputs": [
    {
     "data": {
      "text/plain": [
       "array([0, 1, 2, 3, 4, 5, 6, 7, 8, 9])"
      ]
     },
     "execution_count": 5,
     "metadata": {},
     "output_type": "execute_result"
    },
    {
     "data": {
      "text/plain": [
       "array([  0,   1,   2, 100, 100, 100,   6,   7,   8,   9])"
      ]
     },
     "execution_count": 5,
     "metadata": {},
     "output_type": "execute_result"
    }
   ],
   "source": [
    "a = np.arange(10)\n",
    "a\n",
    "a_slice = a[3:6]\n",
    "a_slice[:] = 100\n",
    "a"
   ]
  },
  {
   "cell_type": "markdown",
   "metadata": {},
   "source": [
    "## ```ndarray```的布尔索引"
   ]
  },
  {
   "cell_type": "markdown",
   "metadata": {},
   "source": [
    "### ```ndarray```进行布尔索引时，**可以混合切片操作对数组进行索引。**"
   ]
  },
  {
   "cell_type": "code",
   "execution_count": 6,
   "metadata": {
    "ExecuteTime": {
     "end_time": "2018-11-10T09:21:53.954496Z",
     "start_time": "2018-11-10T09:21:53.937542Z"
    },
    "scrolled": true
   },
   "outputs": [
    {
     "data": {
      "text/plain": [
       "array([[ 0.25974555, -1.46891715,  0.10087989,  1.266699  ],\n",
       "       [ 0.42621529, -0.31242722,  1.30973073, -0.03510822],\n",
       "       [ 0.19245114, -1.13855551,  1.00681599, -0.18421269],\n",
       "       [ 2.75520291,  0.11515391,  0.16779128, -1.29938006],\n",
       "       [-0.39724944,  0.31291604, -0.15899605,  1.5813231 ],\n",
       "       [ 0.88884494, -0.39555301,  1.07847094,  0.27641004],\n",
       "       [-0.57077644,  0.59299891, -1.39846765,  0.14027363]])"
      ]
     },
     "execution_count": 6,
     "metadata": {},
     "output_type": "execute_result"
    },
    {
     "data": {
      "text/plain": [
       "array([[ 0.25974555, -1.46891715,  0.10087989,  1.266699  ],\n",
       "       [ 2.75520291,  0.11515391,  0.16779128, -1.29938006]])"
      ]
     },
     "execution_count": 6,
     "metadata": {},
     "output_type": "execute_result"
    },
    {
     "data": {
      "text/plain": [
       "array([[-1.46891715,  0.10087989,  1.266699  ],\n",
       "       [ 0.11515391,  0.16779128, -1.29938006]])"
      ]
     },
     "execution_count": 6,
     "metadata": {},
     "output_type": "execute_result"
    }
   ],
   "source": [
    "a = np.random.randn(7,4)\n",
    "a\n",
    "names = np.array(['Bob', 'Joe', 'Will', 'Bob', 'Will', 'Joe', 'Joe'])\n",
    "a[names == 'Bob']\n",
    "\n",
    "# 布尔索引和切片操作混合使用\n",
    "a[names == 'Bob',1:]"
   ]
  },
  {
   "cell_type": "markdown",
   "metadata": {},
   "source": [
    "### 使用`~`操作符来进行反选"
   ]
  },
  {
   "cell_type": "code",
   "execution_count": 7,
   "metadata": {
    "ExecuteTime": {
     "end_time": "2018-11-10T09:21:53.970453Z",
     "start_time": "2018-11-10T09:21:53.958486Z"
    },
    "scrolled": true
   },
   "outputs": [
    {
     "data": {
      "text/plain": [
       "array([[ 0.25974555, -1.46891715,  0.10087989,  1.266699  ],\n",
       "       [ 2.75520291,  0.11515391,  0.16779128, -1.29938006]])"
      ]
     },
     "execution_count": 7,
     "metadata": {},
     "output_type": "execute_result"
    },
    {
     "data": {
      "text/plain": [
       "array([[ 0.42621529, -0.31242722,  1.30973073, -0.03510822],\n",
       "       [ 0.19245114, -1.13855551,  1.00681599, -0.18421269],\n",
       "       [-0.39724944,  0.31291604, -0.15899605,  1.5813231 ],\n",
       "       [ 0.88884494, -0.39555301,  1.07847094,  0.27641004],\n",
       "       [-0.57077644,  0.59299891, -1.39846765,  0.14027363]])"
      ]
     },
     "execution_count": 7,
     "metadata": {},
     "output_type": "execute_result"
    }
   ],
   "source": [
    "a[names == 'Bob']\n",
    "a[~(names == 'Bob')]"
   ]
  },
  {
   "cell_type": "markdown",
   "metadata": {},
   "source": [
    "### 使用布尔运算操作符`&`和`|`进行复合索引"
   ]
  },
  {
   "cell_type": "code",
   "execution_count": 8,
   "metadata": {
    "ExecuteTime": {
     "end_time": "2018-11-10T09:21:53.984416Z",
     "start_time": "2018-11-10T09:21:53.975442Z"
    }
   },
   "outputs": [
    {
     "data": {
      "text/plain": [
       "array([[ 0.42621529, -0.31242722,  1.30973073, -0.03510822],\n",
       "       [ 0.88884494, -0.39555301,  1.07847094,  0.27641004],\n",
       "       [-0.57077644,  0.59299891, -1.39846765,  0.14027363]])"
      ]
     },
     "execution_count": 8,
     "metadata": {},
     "output_type": "execute_result"
    }
   ],
   "source": [
    "cond = (names == 'Bob')|(names == 'Will')\n",
    "a[~cond]"
   ]
  },
  {
   "cell_type": "markdown",
   "metadata": {
    "ExecuteTime": {
     "end_time": "2018-11-10T02:57:47.054446Z",
     "start_time": "2018-11-10T02:57:47.046466Z"
    }
   },
   "source": [
    "### 布尔索引和切片索引在复制性上的区别"
   ]
  },
  {
   "cell_type": "markdown",
   "metadata": {},
   "source": [
    "与切片索引不同（切片返回的只是原数组的一个‘view’，具有不复制性），**布尔索引总是会复制原数组的目标部分。**"
   ]
  },
  {
   "cell_type": "code",
   "execution_count": 9,
   "metadata": {
    "ExecuteTime": {
     "end_time": "2018-11-10T09:21:54.000374Z",
     "start_time": "2018-11-10T09:21:53.988405Z"
    },
    "scrolled": false
   },
   "outputs": [
    {
     "data": {
      "text/plain": [
       "array([[100., 100., 100., 100.],\n",
       "       [100., 100., 100., 100.]])"
      ]
     },
     "execution_count": 9,
     "metadata": {},
     "output_type": "execute_result"
    },
    {
     "data": {
      "text/plain": [
       "array([[ 0.25974555, -1.46891715,  0.10087989,  1.266699  ],\n",
       "       [ 0.42621529, -0.31242722,  1.30973073, -0.03510822],\n",
       "       [ 0.19245114, -1.13855551,  1.00681599, -0.18421269],\n",
       "       [ 2.75520291,  0.11515391,  0.16779128, -1.29938006],\n",
       "       [-0.39724944,  0.31291604, -0.15899605,  1.5813231 ],\n",
       "       [ 0.88884494, -0.39555301,  1.07847094,  0.27641004],\n",
       "       [-0.57077644,  0.59299891, -1.39846765,  0.14027363]])"
      ]
     },
     "execution_count": 9,
     "metadata": {},
     "output_type": "execute_result"
    }
   ],
   "source": [
    "# 对布尔索引返回的数组进行重新赋值，不会影响到原数组\n",
    "b= a[names == 'Bob']\n",
    "b[:]=100\n",
    "b\n",
    "a"
   ]
  },
  {
   "cell_type": "code",
   "execution_count": 10,
   "metadata": {
    "ExecuteTime": {
     "end_time": "2018-11-10T09:21:54.019322Z",
     "start_time": "2018-11-10T09:21:54.004365Z"
    },
    "scrolled": true
   },
   "outputs": [
    {
     "data": {
      "text/plain": [
       "array([-0.31242722])"
      ]
     },
     "execution_count": 10,
     "metadata": {},
     "output_type": "execute_result"
    },
    {
     "data": {
      "text/plain": [
       "array([[ 2.59745546e-01, -1.46891715e+00,  1.00879891e-01,\n",
       "         1.26669900e+00],\n",
       "       [ 4.26215287e-01,  1.00000000e+02,  1.30973073e+00,\n",
       "        -3.51082190e-02],\n",
       "       [ 1.92451138e-01, -1.13855551e+00,  1.00681599e+00,\n",
       "        -1.84212689e-01],\n",
       "       [ 2.75520291e+00,  1.15153908e-01,  1.67791285e-01,\n",
       "        -1.29938006e+00],\n",
       "       [-3.97249444e-01,  3.12916038e-01, -1.58996046e-01,\n",
       "         1.58132310e+00],\n",
       "       [ 8.88844944e-01, -3.95553014e-01,  1.07847094e+00,\n",
       "         2.76410036e-01],\n",
       "       [-5.70776442e-01,  5.92998909e-01, -1.39846765e+00,\n",
       "         1.40273633e-01]])"
      ]
     },
     "execution_count": 10,
     "metadata": {},
     "output_type": "execute_result"
    }
   ],
   "source": [
    "# 对切片索引返回的数组重新赋值，原数组也随之改变\n",
    "b=a[1,1:2]\n",
    "b\n",
    "b[0]=100\n",
    "a"
   ]
  },
  {
   "cell_type": "markdown",
   "metadata": {},
   "source": [
    "### 利用布尔索引重新赋值特定值"
   ]
  },
  {
   "cell_type": "code",
   "execution_count": 11,
   "metadata": {
    "ExecuteTime": {
     "end_time": "2018-11-10T09:21:54.039270Z",
     "start_time": "2018-11-10T09:21:54.024310Z"
    },
    "scrolled": false
   },
   "outputs": [
    {
     "data": {
      "text/plain": [
       "array([[0.        , 1.10525845, 1.29904017, 0.        , 0.        ],\n",
       "       [0.        , 0.        , 0.        , 1.8586813 , 1.57752425],\n",
       "       [0.        , 0.        , 0.        , 0.        , 0.        ],\n",
       "       [0.        , 0.        , 0.        , 0.        , 0.        ],\n",
       "       [0.        , 0.        , 0.        , 1.37898442, 1.96799001]])"
      ]
     },
     "execution_count": 11,
     "metadata": {},
     "output_type": "execute_result"
    },
    {
     "data": {
      "text/plain": [
       "array([[1.        , 1.10525845, 1.29904017, 1.        , 1.        ],\n",
       "       [1.        , 1.        , 1.        , 1.8586813 , 1.57752425],\n",
       "       [1.        , 1.        , 1.        , 1.        , 1.        ],\n",
       "       [1.        , 1.        , 1.        , 1.        , 1.        ],\n",
       "       [1.        , 1.        , 1.        , 1.37898442, 1.96799001]])"
      ]
     },
     "execution_count": 11,
     "metadata": {},
     "output_type": "execute_result"
    }
   ],
   "source": [
    "data = np.random.randn(5,5)\n",
    "data[data<1]=0\n",
    "data\n",
    "data[data==0]=1\n",
    "data"
   ]
  },
  {
   "cell_type": "markdown",
   "metadata": {},
   "source": [
    "### 花式索引"
   ]
  },
  {
   "cell_type": "code",
   "execution_count": 12,
   "metadata": {
    "ExecuteTime": {
     "end_time": "2018-11-10T09:21:54.089139Z",
     "start_time": "2018-11-10T09:21:54.047249Z"
    },
    "scrolled": false
   },
   "outputs": [
    {
     "data": {
      "text/plain": [
       "array([[0., 0., 0., 0., 0.],\n",
       "       [1., 1., 1., 1., 1.],\n",
       "       [2., 2., 2., 2., 2.],\n",
       "       [3., 3., 3., 3., 3.],\n",
       "       [4., 4., 4., 4., 4.]])"
      ]
     },
     "execution_count": 12,
     "metadata": {},
     "output_type": "execute_result"
    },
    {
     "data": {
      "text/plain": [
       "array([[4., 4., 4., 4., 4.],\n",
       "       [2., 2., 2., 2., 2.],\n",
       "       [0., 0., 0., 0., 0.]])"
      ]
     },
     "execution_count": 12,
     "metadata": {},
     "output_type": "execute_result"
    },
    {
     "data": {
      "text/plain": [
       "array([[4., 4., 4., 4., 4.],\n",
       "       [2., 2., 2., 2., 2.],\n",
       "       [0., 0., 0., 0., 0.]])"
      ]
     },
     "execution_count": 12,
     "metadata": {},
     "output_type": "execute_result"
    },
    {
     "data": {
      "text/plain": [
       "array([4., 2., 0.])"
      ]
     },
     "execution_count": 12,
     "metadata": {},
     "output_type": "execute_result"
    },
    {
     "data": {
      "text/plain": [
       "array([4., 2., 0.])"
      ]
     },
     "execution_count": 12,
     "metadata": {},
     "output_type": "execute_result"
    },
    {
     "data": {
      "text/plain": [
       "array([[4., 4., 4.],\n",
       "       [2., 2., 2.],\n",
       "       [0., 0., 0.]])"
      ]
     },
     "execution_count": 12,
     "metadata": {},
     "output_type": "execute_result"
    }
   ],
   "source": [
    "data=np.empty((5,5))\n",
    "for i in range(5):\n",
    "    data[i] = i\n",
    "data\n",
    "data[[4,2,0]]\n",
    "data[[4,2,0],:]\n",
    "data[[4,2,0],[1]]\n",
    "# data[[4,2,0],[1,2]] 由于维度不匹配，会引起错误\n",
    "data[[4,2,0],[1,2,4]]  # 两个数组的值一一对应形成了3个坐标点，返回一个一维数组\n",
    "data[[4,2,0]][:,[1,2,4]]  # 通过两次花式索引返回一个矩形方框内的数组"
   ]
  },
  {
   "cell_type": "markdown",
   "metadata": {},
   "source": [
    "需要注意的是：\n",
    "\n",
    "- 花式索引和布尔索引一样，会创建原数组的一个复制。\n",
    "- 切片索引则只是原数组的一个‘view’，其上的操作不会改变原数组。"
   ]
  },
  {
   "cell_type": "markdown",
   "metadata": {},
   "source": [
    "# ```ndarray```数组的转置和轴变化"
   ]
  },
  {
   "cell_type": "markdown",
   "metadata": {},
   "source": [
    "## 转置"
   ]
  },
  {
   "cell_type": "code",
   "execution_count": 13,
   "metadata": {
    "ExecuteTime": {
     "end_time": "2018-11-10T09:21:54.107109Z",
     "start_time": "2018-11-10T09:21:54.093128Z"
    },
    "scrolled": false
   },
   "outputs": [
    {
     "data": {
      "text/plain": [
       "array([[ 0.1949061 ,  1.78971635,  0.32188454,  0.44688522, -0.43329778],\n",
       "       [ 1.22242887,  2.00838707,  1.46612238, -1.59715644,  0.4635925 ],\n",
       "       [-0.80214327,  0.69476068,  0.3697347 ,  1.50927066,  0.31144172]])"
      ]
     },
     "execution_count": 13,
     "metadata": {},
     "output_type": "execute_result"
    },
    {
     "data": {
      "text/plain": [
       "array([[ 0.1949061 ,  1.78971635,  0.32188454,  0.44688522, -0.43329778],\n",
       "       [ 1.22242887,  2.00838707,  1.46612238, -1.59715644,  0.4635925 ],\n",
       "       [-0.80214327,  0.69476068,  0.3697347 ,  1.50927066,  0.31144172]])"
      ]
     },
     "execution_count": 13,
     "metadata": {},
     "output_type": "execute_result"
    }
   ],
   "source": [
    "# 两种方法：ndarray.T属性和ndarray.transpose()方法\n",
    "a = np.random.randn(5,3)\n",
    "a.transpose()\n",
    "a.T"
   ]
  },
  {
   "cell_type": "markdown",
   "metadata": {},
   "source": [
    "## 轴变换"
   ]
  },
  {
   "cell_type": "markdown",
   "metadata": {},
   "source": [
    "- ndarray.T是最简单的轴变换"
   ]
  },
  {
   "cell_type": "markdown",
   "metadata": {
    "ExecuteTime": {
     "end_time": "2018-11-10T09:11:22.428723Z",
     "start_time": "2018-11-10T09:11:22.397482Z"
    }
   },
   "source": [
    "- ```ndarray.transpose()```可以接受一个元组，用以表示轴的交换顺序"
   ]
  },
  {
   "cell_type": "code",
   "execution_count": 14,
   "metadata": {
    "ExecuteTime": {
     "end_time": "2018-11-10T09:21:54.135016Z",
     "start_time": "2018-11-10T09:21:54.118062Z"
    },
    "scrolled": true
   },
   "outputs": [
    {
     "data": {
      "text/plain": [
       "array([[[ 0.19358055,  1.45961083, -1.04199384,  0.61713007],\n",
       "        [ 0.73146892, -1.46188063, -0.82009218, -0.79092384]],\n",
       "\n",
       "       [[ 1.27355801, -0.23046413,  1.98428268, -0.24527132],\n",
       "        [-0.41622308,  0.2263189 ,  0.35440099, -1.76829713]]])"
      ]
     },
     "execution_count": 14,
     "metadata": {},
     "output_type": "execute_result"
    },
    {
     "data": {
      "text/plain": [
       "array([[[ 0.19358055,  1.45961083, -1.04199384,  0.61713007],\n",
       "        [ 1.27355801, -0.23046413,  1.98428268, -0.24527132]],\n",
       "\n",
       "       [[ 0.73146892, -1.46188063, -0.82009218, -0.79092384],\n",
       "        [-0.41622308,  0.2263189 ,  0.35440099, -1.76829713]]])"
      ]
     },
     "execution_count": 14,
     "metadata": {},
     "output_type": "execute_result"
    }
   ],
   "source": [
    "a = np.random.randn(2,2,4)\n",
    "a\n",
    "a.transpose(1,0,2)"
   ]
  },
  {
   "cell_type": "markdown",
   "metadata": {},
   "source": [
    "- ```ndarray.swapaxes()```对换两个轴的顺序"
   ]
  },
  {
   "cell_type": "code",
   "execution_count": 15,
   "metadata": {
    "ExecuteTime": {
     "end_time": "2018-11-10T09:21:54.154961Z",
     "start_time": "2018-11-10T09:21:54.141997Z"
    }
   },
   "outputs": [
    {
     "data": {
      "text/plain": [
       "array([[[-0.59906056,  1.33007815, -0.12047318,  0.17069945],\n",
       "        [-0.81354483, -1.2345225 ,  0.91538178,  0.70577581]],\n",
       "\n",
       "       [[ 2.54528152, -0.3670662 ,  0.50643866,  0.39261617],\n",
       "        [ 0.01565825,  0.6449081 ,  0.32477006, -0.46558493]]])"
      ]
     },
     "execution_count": 15,
     "metadata": {},
     "output_type": "execute_result"
    },
    {
     "data": {
      "text/plain": [
       "array([[[-0.59906056,  1.33007815, -0.12047318,  0.17069945],\n",
       "        [ 2.54528152, -0.3670662 ,  0.50643866,  0.39261617]],\n",
       "\n",
       "       [[-0.81354483, -1.2345225 ,  0.91538178,  0.70577581],\n",
       "        [ 0.01565825,  0.6449081 ,  0.32477006, -0.46558493]]])"
      ]
     },
     "execution_count": 15,
     "metadata": {},
     "output_type": "execute_result"
    }
   ],
   "source": [
    "a = np.random.randn(2,2,4)\n",
    "a\n",
    "a.swapaxes(0,1)"
   ]
  }
 ],
 "metadata": {
  "kernelspec": {
   "display_name": "Python 3",
   "language": "python",
   "name": "python3"
  },
  "language_info": {
   "codemirror_mode": {
    "name": "ipython",
    "version": 3
   },
   "file_extension": ".py",
   "mimetype": "text/x-python",
   "name": "python",
   "nbconvert_exporter": "python",
   "pygments_lexer": "ipython3",
   "version": "3.6.5"
  },
  "toc": {
   "base_numbering": 1,
   "nav_menu": {
    "height": "484.667px",
    "width": "709px"
   },
   "number_sections": true,
   "sideBar": true,
   "skip_h1_title": false,
   "title_cell": "Table of Contents",
   "title_sidebar": "Contents",
   "toc_cell": false,
   "toc_position": {
    "height": "calc(100% - 180px)",
    "left": "10px",
    "top": "150px",
    "width": "258.667px"
   },
   "toc_section_display": true,
   "toc_window_display": false
  },
  "varInspector": {
   "cols": {
    "lenName": 16,
    "lenType": 16,
    "lenVar": 40
   },
   "kernels_config": {
    "python": {
     "delete_cmd_postfix": "",
     "delete_cmd_prefix": "del ",
     "library": "var_list.py",
     "varRefreshCmd": "print(var_dic_list())"
    },
    "r": {
     "delete_cmd_postfix": ") ",
     "delete_cmd_prefix": "rm(",
     "library": "var_list.r",
     "varRefreshCmd": "cat(var_dic_list()) "
    }
   },
   "types_to_exclude": [
    "module",
    "function",
    "builtin_function_or_method",
    "instance",
    "_Feature"
   ],
   "window_display": false
  }
 },
 "nbformat": 4,
 "nbformat_minor": 2
}
