{
 "cells": [
  {
   "cell_type": "markdown",
   "metadata": {},
   "source": [
    "# 1. 随机状态"
   ]
  },
  {
   "cell_type": "markdown",
   "metadata": {},
   "source": [
    "numpy中的随机数为伪随机数生成，每一组随机数之间的区别取决于```np.random.RandomState```的不同。 \n",
    "* 当```np.random.RandomState```保持不变时，生成的随机数是一样的。\n",
    "* 当```np.random.RandomState```发生改变，则生成一组不同的随机数。\n",
    "    \n",
    "可以通过两种方法改变这种**随机状态**：\n",
    "- 1. ```np.random.seed(seed=)```\n",
    "- 2. ```rng = np.random.RandomState(seed=)```,然后利用```rng.random.?```生成随机数"
   ]
  },
  {
   "cell_type": "code",
   "execution_count": 9,
   "metadata": {
    "ExecuteTime": {
     "end_time": "2018-11-12T13:08:17.561724Z",
     "start_time": "2018-11-12T13:08:17.547759Z"
    },
    "scrolled": false
   },
   "outputs": [
    {
     "data": {
      "text/plain": [
       "array([ 1.62434536, -0.61175641, -0.52817175])"
      ]
     },
     "execution_count": 9,
     "metadata": {},
     "output_type": "execute_result"
    },
    {
     "data": {
      "text/plain": [
       "array([ 1.62434536, -0.61175641, -0.52817175])"
      ]
     },
     "execution_count": 9,
     "metadata": {},
     "output_type": "execute_result"
    }
   ],
   "source": [
    "import numpy as np\n",
    "np.random.seed(1)\n",
    "np.random.randn(3)\n",
    "rng=np.random.RandomState(seed=1)\n",
    "rng.randn(3)"
   ]
  },
  {
   "cell_type": "markdown",
   "metadata": {},
   "source": [
    "# 2. 打乱数组 "
   ]
  },
  {
   "cell_type": "markdown",
   "metadata": {},
   "source": [
    "- ```np.random.permutation()```：生成一个随机顺序的数组，或者打乱一个数组的顺序(原数组的**复制**)。\n",
    "- ```np.random.shuffle()```：就地打乱一个数组。\n",
    "    \n",
    "    对于多维数组，仅在第一轴线上进行打乱，其他轴顺序保持不变。"
   ]
  },
  {
   "cell_type": "code",
   "execution_count": 16,
   "metadata": {
    "ExecuteTime": {
     "end_time": "2018-11-12T13:26:05.262921Z",
     "start_time": "2018-11-12T13:26:05.240979Z"
    },
    "scrolled": true
   },
   "outputs": [
    {
     "data": {
      "text/plain": [
       "array([2, 5, 4, 9, 3, 6, 1, 7, 8, 0])"
      ]
     },
     "execution_count": 16,
     "metadata": {},
     "output_type": "execute_result"
    },
    {
     "data": {
      "text/plain": [
       "array([0, 7, 1, 3, 8, 2, 9, 5, 4, 6])"
      ]
     },
     "execution_count": 16,
     "metadata": {},
     "output_type": "execute_result"
    },
    {
     "data": {
      "text/plain": [
       "array([0, 1, 2, 3, 4, 5, 6, 7, 8, 9])"
      ]
     },
     "execution_count": 16,
     "metadata": {},
     "output_type": "execute_result"
    },
    {
     "data": {
      "text/plain": [
       "array([[6, 7, 8],\n",
       "       [0, 1, 2],\n",
       "       [3, 4, 5]])"
      ]
     },
     "execution_count": 16,
     "metadata": {},
     "output_type": "execute_result"
    }
   ],
   "source": [
    "np.random.permutation(10)\n",
    "x = np.arange(10)\n",
    "np.random.permutation(x)\n",
    "y = np.arange(9).reshape(3,3)\n",
    "np.random.permutation(y)"
   ]
  },
  {
   "cell_type": "code",
   "execution_count": 30,
   "metadata": {
    "ExecuteTime": {
     "end_time": "2018-11-12T13:29:00.847241Z",
     "start_time": "2018-11-12T13:29:00.839261Z"
    }
   },
   "outputs": [
    {
     "data": {
      "text/plain": [
       "array([[6, 7, 8],\n",
       "       [0, 1, 2],\n",
       "       [3, 4, 5]])"
      ]
     },
     "execution_count": 30,
     "metadata": {},
     "output_type": "execute_result"
    }
   ],
   "source": [
    "x = np.arange(9).reshape(3,3)\n",
    "np.random.shuffle(x)\n",
    "x"
   ]
  },
  {
   "cell_type": "markdown",
   "metadata": {},
   "source": [
    "# 3. 生成随机数组"
   ]
  },
  {
   "cell_type": "markdown",
   "metadata": {},
   "source": [
    "- ```np.random.rand()```：生成(0,1)的均匀分布数组。\n",
    "- ```np.random.uniform()```：生成指定参数(a,b)的从a到b的均匀分布数组。"
   ]
  },
  {
   "cell_type": "code",
   "execution_count": 55,
   "metadata": {
    "ExecuteTime": {
     "end_time": "2018-11-12T13:57:32.299561Z",
     "start_time": "2018-11-12T13:57:32.268311Z"
    },
    "scrolled": true
   },
   "outputs": [
    {
     "data": {
      "text/plain": [
       "array([[0.4812227 , 0.85562206, 0.36389506],\n",
       "       [0.92596632, 0.60308124, 0.99311601],\n",
       "       [0.88437724, 0.19961858, 0.99644871]])"
      ]
     },
     "execution_count": 55,
     "metadata": {},
     "output_type": "execute_result"
    },
    {
     "data": {
      "text/plain": [
       "array([[-0.10234762,  0.6750556 ,  0.5078535 ],\n",
       "       [ 0.82726826,  0.57784691, -0.60131844],\n",
       "       [ 0.39562899, -0.85697737,  0.71836449]])"
      ]
     },
     "execution_count": 55,
     "metadata": {},
     "output_type": "execute_result"
    }
   ],
   "source": [
    "np.random.rand(3,3)\n",
    "np.random.uniform(-1,1,(3,3))"
   ]
  },
  {
   "cell_type": "markdown",
   "metadata": {},
   "source": [
    "- ```np.random.randint()```：生成指定参数(a,b,c)的从a到b之间的c个随机整数。"
   ]
  },
  {
   "cell_type": "code",
   "execution_count": 35,
   "metadata": {
    "ExecuteTime": {
     "end_time": "2018-11-12T13:42:27.102270Z",
     "start_time": "2018-11-12T13:42:27.086647Z"
    }
   },
   "outputs": [
    {
     "data": {
      "text/plain": [
       "array([-47,  37,  69,  85, -12,   9, -18,   6,  39,   5])"
      ]
     },
     "execution_count": 35,
     "metadata": {},
     "output_type": "execute_result"
    }
   ],
   "source": [
    "np.random.randint(-100,100,10)"
   ]
  },
  {
   "cell_type": "markdown",
   "metadata": {},
   "source": [
    "- ```np.random.randn()```：生成一个指定尺寸的标准正态分布数组(均值为0，标准差为1)。\n",
    "- ```np.random.normal()```：生成一个指定参数(mean,std,size)的正态分布。"
   ]
  },
  {
   "cell_type": "code",
   "execution_count": 43,
   "metadata": {
    "ExecuteTime": {
     "end_time": "2018-11-12T13:46:14.889413Z",
     "start_time": "2018-11-12T13:46:14.873456Z"
    },
    "scrolled": true
   },
   "outputs": [
    {
     "data": {
      "text/plain": [
       "array([[-0.45342757, -0.17899462, -0.6331164 ],\n",
       "       [ 0.47462717, -0.48456301,  0.37588444],\n",
       "       [ 0.74804848, -1.18845766,  0.24361123]])"
      ]
     },
     "execution_count": 43,
     "metadata": {},
     "output_type": "execute_result"
    },
    {
     "data": {
      "text/plain": [
       "-0.12182088174911569"
      ]
     },
     "execution_count": 43,
     "metadata": {},
     "output_type": "execute_result"
    },
    {
     "data": {
      "text/plain": [
       "0.5904447460958799"
      ]
     },
     "execution_count": 43,
     "metadata": {},
     "output_type": "execute_result"
    }
   ],
   "source": [
    "x = np.random.randn(3,3)\n",
    "x\n",
    "x.mean()\n",
    "x.std()"
   ]
  },
  {
   "cell_type": "code",
   "execution_count": 58,
   "metadata": {
    "ExecuteTime": {
     "end_time": "2018-11-12T13:59:31.794026Z",
     "start_time": "2018-11-12T13:59:31.779069Z"
    },
    "scrolled": true
   },
   "outputs": [
    {
     "data": {
      "text/plain": [
       "array([[10.08696154,  9.99846066,  9.2663761 ],\n",
       "       [ 9.23355221, 10.80909107,  9.92982693],\n",
       "       [12.06868253,  7.66306501, 12.09335223]])"
      ]
     },
     "execution_count": 58,
     "metadata": {},
     "output_type": "execute_result"
    }
   ],
   "source": [
    "np.random.normal(10,2,(3,3))"
   ]
  },
  {
   "cell_type": "markdown",
   "metadata": {},
   "source": [
    "- ```np.random.binomial(n,p,size)```：生成一个二项分布。"
   ]
  },
  {
   "cell_type": "code",
   "execution_count": 52,
   "metadata": {
    "ExecuteTime": {
     "end_time": "2018-11-12T13:55:01.658982Z",
     "start_time": "2018-11-12T13:55:01.650005Z"
    },
    "scrolled": true
   },
   "outputs": [
    {
     "data": {
      "text/plain": [
       "array([2, 2, 0, 1, 2, 2, 0, 2, 2, 0, 2, 0, 1, 1, 2, 1, 1, 2, 0, 1, 0, 0,\n",
       "       2, 1, 2, 0, 1, 1, 2, 1, 2, 2, 0, 2, 0, 1, 0, 2, 1, 1, 1, 0, 2, 0,\n",
       "       1, 2, 2, 2, 2, 1, 1, 2, 1, 2, 1, 1, 0, 2, 0, 0, 2, 0, 2, 1, 1, 1,\n",
       "       2, 0, 1, 2, 2, 1, 1, 1, 1, 0, 2, 1, 1, 1, 1, 1, 2, 1, 1, 0, 1, 0,\n",
       "       2, 0, 1, 0, 0, 0, 1, 0, 1, 0, 2, 2])"
      ]
     },
     "execution_count": 52,
     "metadata": {},
     "output_type": "execute_result"
    }
   ],
   "source": [
    "np.random.binomial(2,0.5,100)"
   ]
  },
  {
   "cell_type": "markdown",
   "metadata": {
    "ExecuteTime": {
     "end_time": "2018-11-12T13:55:48.917502Z",
     "start_time": "2018-11-12T13:55:48.886259Z"
    }
   },
   "source": [
    "- ```np.random.beta()```：生成一个$β$分布。\n",
    "- ```np.random.gamma()```：生成一个$γ$分布。\n",
    "- ```np.random.chisquare()```：生成一个卡方分布。"
   ]
  },
  {
   "cell_type": "markdown",
   "metadata": {},
   "source": [
    "# 4. 数组最大值"
   ]
  },
  {
   "cell_type": "markdown",
   "metadata": {},
   "source": [
    "- ```argmax()```函数或方法：返回最大值的索引。"
   ]
  },
  {
   "cell_type": "code",
   "execution_count": 2,
   "metadata": {
    "ExecuteTime": {
     "end_time": "2018-11-13T01:36:04.308899Z",
     "start_time": "2018-11-13T01:36:04.277654Z"
    }
   },
   "outputs": [
    {
     "data": {
      "text/plain": [
       "14"
      ]
     },
     "execution_count": 2,
     "metadata": {},
     "output_type": "execute_result"
    },
    {
     "data": {
      "text/plain": [
       "14"
      ]
     },
     "execution_count": 2,
     "metadata": {},
     "output_type": "execute_result"
    }
   ],
   "source": [
    "x = np.random.randn(100)\n",
    "x.argmax()\n",
    "np.argmax(x)"
   ]
  },
  {
   "cell_type": "code",
   "execution_count": 9,
   "metadata": {
    "ExecuteTime": {
     "end_time": "2018-11-13T01:40:41.346556Z",
     "start_time": "2018-11-13T01:40:41.339575Z"
    }
   },
   "outputs": [
    {
     "data": {
      "text/plain": [
       "0"
      ]
     },
     "execution_count": 9,
     "metadata": {},
     "output_type": "execute_result"
    }
   ],
   "source": [
    "np.random.randint(0,2)"
   ]
  }
 ],
 "metadata": {
  "kernelspec": {
   "display_name": "Python 3",
   "language": "python",
   "name": "python3"
  },
  "language_info": {
   "codemirror_mode": {
    "name": "ipython",
    "version": 3
   },
   "file_extension": ".py",
   "mimetype": "text/x-python",
   "name": "python",
   "nbconvert_exporter": "python",
   "pygments_lexer": "ipython3",
   "version": "3.6.5"
  },
  "toc": {
   "base_numbering": 1,
   "nav_menu": {},
   "number_sections": false,
   "sideBar": true,
   "skip_h1_title": false,
   "title_cell": "Table of Contents",
   "title_sidebar": "Contents",
   "toc_cell": false,
   "toc_position": {},
   "toc_section_display": true,
   "toc_window_display": true
  },
  "varInspector": {
   "cols": {
    "lenName": 16,
    "lenType": 16,
    "lenVar": 40
   },
   "kernels_config": {
    "python": {
     "delete_cmd_postfix": "",
     "delete_cmd_prefix": "del ",
     "library": "var_list.py",
     "varRefreshCmd": "print(var_dic_list())"
    },
    "r": {
     "delete_cmd_postfix": ") ",
     "delete_cmd_prefix": "rm(",
     "library": "var_list.r",
     "varRefreshCmd": "cat(var_dic_list()) "
    }
   },
   "types_to_exclude": [
    "module",
    "function",
    "builtin_function_or_method",
    "instance",
    "_Feature"
   ],
   "window_display": false
  }
 },
 "nbformat": 4,
 "nbformat_minor": 2
}
