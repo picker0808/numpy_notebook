{
 "cells": [
  {
   "cell_type": "markdown",
   "metadata": {},
   "source": [
    "# ndarray的创建\n",
    "## 从已有数组创建\n",
    "### 使用np.array()由python list进行创建\n",
    "- numpy默认ndarray的所有元素类型相同\n",
    "\n",
    "- 如果传入的列表包含不同类型，则自动统一为相同类型，优先级：str>float>int\n",
    "\n",
    "- np.shape查看数组形状，np.reshape修改形状但不改变原数组，np.resize就地修改原数组  \n",
    "\n",
    "### np.copy、np.asarray()和np.asanyarray()  \n",
    "- np.copy()复制一个指定数组\n",
    "- np.asarray()和np.asanyarray()两者都将传入数组变为ndarray或其子类\n",
    "- 区别在于asarray()将原数组类型变为ndarray, asanyarray()则保留原数组的数据类型(ndarray的子类)  \n",
    "\n",
    "\n"
   ]
  },
  {
   "cell_type": "code",
   "execution_count": 1,
   "metadata": {
    "ExecuteTime": {
     "end_time": "2018-11-12T02:57:00.568885Z",
     "start_time": "2018-11-12T02:57:00.251728Z"
    }
   },
   "outputs": [
    {
     "name": "stdout",
     "output_type": "stream",
     "text": [
      "True\n",
      "<class 'numpy.ndarray'>\n",
      "False\n",
      "True\n"
     ]
    }
   ],
   "source": [
    "import numpy as np\n",
    "\n",
    "print(issubclass(np.matrix, np.ndarray))\n",
    "\n",
    "a = np.matrix([[1, 2]])\n",
    "print(type(np.asarray(a)))\n",
    "print(np.asarray(a) is a)\n",
    "\n",
    "print(np.asanyarray(a) is a)\n"
   ]
  },
  {
   "cell_type": "markdown",
   "metadata": {},
   "source": [
    "\n",
    "### np.fromstring()\n",
    "\n"
   ]
  },
  {
   "cell_type": "code",
   "execution_count": 2,
   "metadata": {
    "ExecuteTime": {
     "end_time": "2018-11-12T02:57:00.586831Z",
     "start_time": "2018-11-12T02:57:00.573866Z"
    },
    "scrolled": false
   },
   "outputs": [
    {
     "name": "stdout",
     "output_type": "stream",
     "text": [
      "[1 2]\n",
      "[1 2]\n"
     ]
    }
   ],
   "source": [
    "a = np.fromstring('1 2', dtype=int, sep=' ')\n",
    "b = np.fromstring('1, 2', dtype=int, sep=',')\n",
    "print(a)\n",
    "print(b)"
   ]
  },
  {
   "cell_type": "markdown",
   "metadata": {},
   "source": [
    "## 使用routines函数进行创建\n",
    "- np.empty(shape, dtype=float, order='C')  \n",
    "__创建具有形状和数据类型的数组，其中的数据都是未初始化数据__  \n",
    "\n",
    "\n",
    "- np.empty_like(a, dtype=None, order='K', subok=True)  \n",
    "__创建一个和a数组同形的数组，subok=True则为a的子集类__\n",
    "\n"
   ]
  },
  {
   "cell_type": "code",
   "execution_count": 3,
   "metadata": {
    "ExecuteTime": {
     "end_time": "2018-11-12T02:57:00.638691Z",
     "start_time": "2018-11-12T02:57:00.592814Z"
    },
    "scrolled": true
   },
   "outputs": [
    {
     "name": "stdout",
     "output_type": "stream",
     "text": [
      "[[8.90104239e-307 6.23059726e-307]\n",
      " [1.78021527e-306 1.00132653e-307]]\n",
      "[[8.77535059e-312 1.42419938e-306]\n",
      " [4.45058486e-308 2.55888926e-307]]\n"
     ]
    }
   ],
   "source": [
    "a = np.empty((2,2))\n",
    "b = np.empty_like(a)\n",
    "print(a)\n",
    "print(b)"
   ]
  },
  {
   "cell_type": "markdown",
   "metadata": {},
   "source": [
    "- np.linspace(start, stop, num=50, endpoint=True, retstep=False, dtype=None)  \n",
    "__其中，start为起始数，stop为终止数，num为取多少个数据，默认为50，endpoint=True时，stop包含在数组中，False则不包含。retstep=True可显示步长__\n",
    "\n",
    "\n",
    "- np.ones(shape, dtype=None, order='C')  \n",
    "__指定shape，创建全是1的数组__  \n",
    "*np.ones_like则创建与指定数组同形的全为1数组*\n",
    "\n",
    "\n",
    "- np.zeros(shape, dtype=float, order='C')  \n",
    "__指定shape，创建全是0的数组__   \n",
    "*np.zeros_like则创建与指定数组同形的全为0数组*  \n",
    "\n",
    "\n",
    "- np.full(shape, fill_value, dtype=None, order='C')  \n",
    "__指定shape，fill_value,创建全是指定值的数组__  \n",
    "*np.full_like则创建与指定数组同形的全为fill_value的数组*\n",
    "\n",
    "\n",
    "- np.eye(N, M=None, k=0, dtype=float)  \n",
    "__其中N位行数，M为列数，缺省为方阵。k为主轴偏移量，见实例__  \n"
   ]
  },
  {
   "cell_type": "code",
   "execution_count": 4,
   "metadata": {
    "ExecuteTime": {
     "end_time": "2018-11-12T02:57:00.652661Z",
     "start_time": "2018-11-12T02:57:00.643678Z"
    },
    "code_folding": [],
    "scrolled": false
   },
   "outputs": [
    {
     "name": "stdout",
     "output_type": "stream",
     "text": [
      "[[1. 0. 0.]\n",
      " [0. 1. 0.]\n",
      " [0. 0. 1.]]\n",
      "[[0. 1. 0.]\n",
      " [0. 0. 1.]\n",
      " [0. 0. 0.]]\n",
      "[[0. 0. 0.]\n",
      " [1. 0. 0.]\n",
      " [0. 1. 0.]]\n"
     ]
    }
   ],
   "source": [
    "# np.eye()中关于参数 k 的实例\n",
    "a = np.eye(3, k=0)\n",
    "b = np.eye(3, k=1)\n",
    "c = np.eye(3, k=-1)\n",
    "print(a)\n",
    "print(b)\n",
    "print(c)"
   ]
  },
  {
   "cell_type": "markdown",
   "metadata": {},
   "source": [
    "- np.identity(n, dtype=None)  \n",
    "__创建主轴为1，其余为0的方阵，与np.eye功能相同，区别在于np.eye可以指定M参数以创建非方阵__\n",
    "\n",
    "\n",
    "- np.ones"
   ]
  },
  {
   "cell_type": "markdown",
   "metadata": {
    "cell_style": "center"
   },
   "source": [
    "# ```ndarray```数组的索引和切片"
   ]
  },
  {
   "cell_type": "markdown",
   "metadata": {},
   "source": [
    "## ```ndarray```切片操作的不复制性"
   ]
  },
  {
   "cell_type": "markdown",
   "metadata": {},
   "source": [
    "numpy的数组切片操作不会复制产生一个新的数组，它的操作只是原始数组的一个“view”"
   ]
  },
  {
   "cell_type": "code",
   "execution_count": 5,
   "metadata": {
    "ExecuteTime": {
     "end_time": "2018-11-12T02:57:00.682581Z",
     "start_time": "2018-11-12T02:57:00.656643Z"
    }
   },
   "outputs": [
    {
     "data": {
      "text/plain": [
       "array([0, 1, 2, 3, 4, 5, 6, 7, 8, 9])"
      ]
     },
     "execution_count": 5,
     "metadata": {},
     "output_type": "execute_result"
    },
    {
     "data": {
      "text/plain": [
       "array([  0,   1,   2, 100, 100, 100,   6,   7,   8,   9])"
      ]
     },
     "execution_count": 5,
     "metadata": {},
     "output_type": "execute_result"
    }
   ],
   "source": [
    "a = np.arange(10)\n",
    "a\n",
    "a_slice = a[3:6]\n",
    "a_slice[:] = 100\n",
    "a"
   ]
  },
  {
   "cell_type": "markdown",
   "metadata": {},
   "source": [
    "## ```ndarray```的布尔索引"
   ]
  },
  {
   "cell_type": "markdown",
   "metadata": {},
   "source": [
    "### ```ndarray```进行布尔索引时，**可以混合切片操作对数组进行索引。**"
   ]
  },
  {
   "cell_type": "code",
   "execution_count": 6,
   "metadata": {
    "ExecuteTime": {
     "end_time": "2018-11-12T02:57:00.718479Z",
     "start_time": "2018-11-12T02:57:00.689560Z"
    },
    "scrolled": true
   },
   "outputs": [
    {
     "data": {
      "text/plain": [
       "array([[ 3.05165155e-02,  1.58360304e-01, -6.87980899e-01,\n",
       "         9.04670760e-05],\n",
       "       [-1.72344938e+00, -4.15380085e-01, -1.45646135e+00,\n",
       "        -1.81512569e+00],\n",
       "       [-1.43468276e+00, -1.08892791e+00, -8.88796918e-02,\n",
       "        -7.12294119e-01],\n",
       "       [ 1.70271568e+00,  9.08178689e-01, -1.74421393e+00,\n",
       "         1.58627904e+00],\n",
       "       [-7.51653057e-02,  2.55781490e+00,  1.04941596e-01,\n",
       "         1.74064007e+00],\n",
       "       [ 1.53047155e+00,  4.20120683e-01, -8.33758181e-03,\n",
       "        -7.93455945e-01],\n",
       "       [ 7.45041614e-01,  1.56789401e+00, -9.17400506e-01,\n",
       "        -4.46112024e-01]])"
      ]
     },
     "execution_count": 6,
     "metadata": {},
     "output_type": "execute_result"
    },
    {
     "data": {
      "text/plain": [
       "array([[ 3.05165155e-02,  1.58360304e-01, -6.87980899e-01,\n",
       "         9.04670760e-05],\n",
       "       [ 1.70271568e+00,  9.08178689e-01, -1.74421393e+00,\n",
       "         1.58627904e+00]])"
      ]
     },
     "execution_count": 6,
     "metadata": {},
     "output_type": "execute_result"
    },
    {
     "data": {
      "text/plain": [
       "array([[ 1.58360304e-01, -6.87980899e-01,  9.04670760e-05],\n",
       "       [ 9.08178689e-01, -1.74421393e+00,  1.58627904e+00]])"
      ]
     },
     "execution_count": 6,
     "metadata": {},
     "output_type": "execute_result"
    }
   ],
   "source": [
    "a = np.random.randn(7,4)\n",
    "a\n",
    "names = np.array(['Bob', 'Joe', 'Will', 'Bob', 'Will', 'Joe', 'Joe'])\n",
    "a[names == 'Bob']\n",
    "\n",
    "# 布尔索引和切片操作混合使用\n",
    "a[names == 'Bob',1:]"
   ]
  },
  {
   "cell_type": "markdown",
   "metadata": {},
   "source": [
    "### 使用`~`操作符来进行反选"
   ]
  },
  {
   "cell_type": "code",
   "execution_count": 7,
   "metadata": {
    "ExecuteTime": {
     "end_time": "2018-11-12T02:57:00.742416Z",
     "start_time": "2018-11-12T02:57:00.726459Z"
    },
    "scrolled": true
   },
   "outputs": [
    {
     "data": {
      "text/plain": [
       "array([[ 3.05165155e-02,  1.58360304e-01, -6.87980899e-01,\n",
       "         9.04670760e-05],\n",
       "       [ 1.70271568e+00,  9.08178689e-01, -1.74421393e+00,\n",
       "         1.58627904e+00]])"
      ]
     },
     "execution_count": 7,
     "metadata": {},
     "output_type": "execute_result"
    },
    {
     "data": {
      "text/plain": [
       "array([[-1.72344938, -0.41538009, -1.45646135, -1.81512569],\n",
       "       [-1.43468276, -1.08892791, -0.08887969, -0.71229412],\n",
       "       [-0.07516531,  2.5578149 ,  0.1049416 ,  1.74064007],\n",
       "       [ 1.53047155,  0.42012068, -0.00833758, -0.79345595],\n",
       "       [ 0.74504161,  1.56789401, -0.91740051, -0.44611202]])"
      ]
     },
     "execution_count": 7,
     "metadata": {},
     "output_type": "execute_result"
    }
   ],
   "source": [
    "a[names == 'Bob']\n",
    "a[~(names == 'Bob')]"
   ]
  },
  {
   "cell_type": "markdown",
   "metadata": {},
   "source": [
    "### 使用布尔运算操作符`&`和`|`进行复合索引"
   ]
  },
  {
   "cell_type": "code",
   "execution_count": 8,
   "metadata": {
    "ExecuteTime": {
     "end_time": "2018-11-12T02:57:00.754381Z",
     "start_time": "2018-11-12T02:57:00.746407Z"
    }
   },
   "outputs": [
    {
     "data": {
      "text/plain": [
       "array([[-1.72344938, -0.41538009, -1.45646135, -1.81512569],\n",
       "       [ 1.53047155,  0.42012068, -0.00833758, -0.79345595],\n",
       "       [ 0.74504161,  1.56789401, -0.91740051, -0.44611202]])"
      ]
     },
     "execution_count": 8,
     "metadata": {},
     "output_type": "execute_result"
    }
   ],
   "source": [
    "cond = (names == 'Bob')|(names == 'Will')\n",
    "a[~cond]"
   ]
  },
  {
   "cell_type": "markdown",
   "metadata": {
    "ExecuteTime": {
     "end_time": "2018-11-10T02:57:47.054446Z",
     "start_time": "2018-11-10T02:57:47.046466Z"
    }
   },
   "source": [
    "### 布尔索引和切片索引在复制性上的区别"
   ]
  },
  {
   "cell_type": "markdown",
   "metadata": {},
   "source": [
    "与切片索引不同（切片返回的只是原数组的一个‘view’，具有不复制性），**布尔索引总是会复制原数组的目标部分。**"
   ]
  },
  {
   "cell_type": "code",
   "execution_count": 9,
   "metadata": {
    "ExecuteTime": {
     "end_time": "2018-11-12T02:57:00.769344Z",
     "start_time": "2018-11-12T02:57:00.758372Z"
    },
    "scrolled": false
   },
   "outputs": [
    {
     "data": {
      "text/plain": [
       "array([[100., 100., 100., 100.],\n",
       "       [100., 100., 100., 100.]])"
      ]
     },
     "execution_count": 9,
     "metadata": {},
     "output_type": "execute_result"
    },
    {
     "data": {
      "text/plain": [
       "array([[ 3.05165155e-02,  1.58360304e-01, -6.87980899e-01,\n",
       "         9.04670760e-05],\n",
       "       [-1.72344938e+00, -4.15380085e-01, -1.45646135e+00,\n",
       "        -1.81512569e+00],\n",
       "       [-1.43468276e+00, -1.08892791e+00, -8.88796918e-02,\n",
       "        -7.12294119e-01],\n",
       "       [ 1.70271568e+00,  9.08178689e-01, -1.74421393e+00,\n",
       "         1.58627904e+00],\n",
       "       [-7.51653057e-02,  2.55781490e+00,  1.04941596e-01,\n",
       "         1.74064007e+00],\n",
       "       [ 1.53047155e+00,  4.20120683e-01, -8.33758181e-03,\n",
       "        -7.93455945e-01],\n",
       "       [ 7.45041614e-01,  1.56789401e+00, -9.17400506e-01,\n",
       "        -4.46112024e-01]])"
      ]
     },
     "execution_count": 9,
     "metadata": {},
     "output_type": "execute_result"
    }
   ],
   "source": [
    "# 对布尔索引返回的数组进行重新赋值，不会影响到原数组\n",
    "b= a[names == 'Bob']\n",
    "b[:]=100\n",
    "b\n",
    "a"
   ]
  },
  {
   "cell_type": "code",
   "execution_count": 10,
   "metadata": {
    "ExecuteTime": {
     "end_time": "2018-11-12T02:57:00.785301Z",
     "start_time": "2018-11-12T02:57:00.773334Z"
    },
    "scrolled": true
   },
   "outputs": [
    {
     "data": {
      "text/plain": [
       "array([-0.41538009])"
      ]
     },
     "execution_count": 10,
     "metadata": {},
     "output_type": "execute_result"
    },
    {
     "data": {
      "text/plain": [
       "array([[ 3.05165155e-02,  1.58360304e-01, -6.87980899e-01,\n",
       "         9.04670760e-05],\n",
       "       [-1.72344938e+00,  1.00000000e+02, -1.45646135e+00,\n",
       "        -1.81512569e+00],\n",
       "       [-1.43468276e+00, -1.08892791e+00, -8.88796918e-02,\n",
       "        -7.12294119e-01],\n",
       "       [ 1.70271568e+00,  9.08178689e-01, -1.74421393e+00,\n",
       "         1.58627904e+00],\n",
       "       [-7.51653057e-02,  2.55781490e+00,  1.04941596e-01,\n",
       "         1.74064007e+00],\n",
       "       [ 1.53047155e+00,  4.20120683e-01, -8.33758181e-03,\n",
       "        -7.93455945e-01],\n",
       "       [ 7.45041614e-01,  1.56789401e+00, -9.17400506e-01,\n",
       "        -4.46112024e-01]])"
      ]
     },
     "execution_count": 10,
     "metadata": {},
     "output_type": "execute_result"
    }
   ],
   "source": [
    "# 对切片索引返回的数组重新赋值，原数组也随之改变\n",
    "b=a[1,1:2]\n",
    "b\n",
    "b[0]=100\n",
    "a"
   ]
  },
  {
   "cell_type": "markdown",
   "metadata": {},
   "source": [
    "### 利用布尔索引重新赋值特定值"
   ]
  },
  {
   "cell_type": "code",
   "execution_count": 11,
   "metadata": {
    "ExecuteTime": {
     "end_time": "2018-11-12T02:57:00.808242Z",
     "start_time": "2018-11-12T02:57:00.789290Z"
    },
    "scrolled": false
   },
   "outputs": [
    {
     "data": {
      "text/plain": [
       "array([[0.        , 0.        , 0.        , 0.        , 1.08465896],\n",
       "       [1.43863819, 1.29685954, 0.        , 0.        , 0.        ],\n",
       "       [0.        , 0.        , 0.        , 0.        , 0.        ],\n",
       "       [0.        , 0.        , 0.        , 0.        , 0.        ],\n",
       "       [0.        , 0.        , 0.        , 0.        , 1.21273017]])"
      ]
     },
     "execution_count": 11,
     "metadata": {},
     "output_type": "execute_result"
    },
    {
     "data": {
      "text/plain": [
       "array([[1.        , 1.        , 1.        , 1.        , 1.08465896],\n",
       "       [1.43863819, 1.29685954, 1.        , 1.        , 1.        ],\n",
       "       [1.        , 1.        , 1.        , 1.        , 1.        ],\n",
       "       [1.        , 1.        , 1.        , 1.        , 1.        ],\n",
       "       [1.        , 1.        , 1.        , 1.        , 1.21273017]])"
      ]
     },
     "execution_count": 11,
     "metadata": {},
     "output_type": "execute_result"
    }
   ],
   "source": [
    "data = np.random.randn(5,5)\n",
    "data[data<1]=0\n",
    "data\n",
    "data[data==0]=1\n",
    "data"
   ]
  },
  {
   "cell_type": "markdown",
   "metadata": {},
   "source": [
    "### 花式索引"
   ]
  },
  {
   "cell_type": "code",
   "execution_count": 12,
   "metadata": {
    "ExecuteTime": {
     "end_time": "2018-11-12T02:57:00.848134Z",
     "start_time": "2018-11-12T02:57:00.813226Z"
    },
    "scrolled": false
   },
   "outputs": [
    {
     "data": {
      "text/plain": [
       "array([[0., 0., 0., 0., 0.],\n",
       "       [1., 1., 1., 1., 1.],\n",
       "       [2., 2., 2., 2., 2.],\n",
       "       [3., 3., 3., 3., 3.],\n",
       "       [4., 4., 4., 4., 4.]])"
      ]
     },
     "execution_count": 12,
     "metadata": {},
     "output_type": "execute_result"
    },
    {
     "data": {
      "text/plain": [
       "array([[4., 4., 4., 4., 4.],\n",
       "       [2., 2., 2., 2., 2.],\n",
       "       [0., 0., 0., 0., 0.]])"
      ]
     },
     "execution_count": 12,
     "metadata": {},
     "output_type": "execute_result"
    },
    {
     "data": {
      "text/plain": [
       "array([[4., 4., 4., 4., 4.],\n",
       "       [2., 2., 2., 2., 2.],\n",
       "       [0., 0., 0., 0., 0.]])"
      ]
     },
     "execution_count": 12,
     "metadata": {},
     "output_type": "execute_result"
    },
    {
     "data": {
      "text/plain": [
       "array([4., 2., 0.])"
      ]
     },
     "execution_count": 12,
     "metadata": {},
     "output_type": "execute_result"
    },
    {
     "data": {
      "text/plain": [
       "array([4., 2., 0.])"
      ]
     },
     "execution_count": 12,
     "metadata": {},
     "output_type": "execute_result"
    },
    {
     "data": {
      "text/plain": [
       "array([[4., 4., 4.],\n",
       "       [2., 2., 2.],\n",
       "       [0., 0., 0.]])"
      ]
     },
     "execution_count": 12,
     "metadata": {},
     "output_type": "execute_result"
    }
   ],
   "source": [
    "data=np.empty((5,5))\n",
    "for i in range(5):\n",
    "    data[i] = i\n",
    "data\n",
    "data[[4,2,0]]\n",
    "data[[4,2,0],:]\n",
    "data[[4,2,0],[1]]\n",
    "# data[[4,2,0],[1,2]] 由于维度不匹配，会引起错误\n",
    "data[[4,2,0],[1,2,4]]  # 两个数组的值一一对应形成了3个坐标点，返回一个一维数组\n",
    "data[[4,2,0]][:,[1,2,4]]  # 通过两次花式索引返回一个矩形方框内的数组"
   ]
  },
  {
   "cell_type": "markdown",
   "metadata": {},
   "source": [
    "需要注意的是：\n",
    "\n",
    "- 花式索引和布尔索引一样，会创建原数组的一个复制。\n",
    "- 切片索引则只是原数组的一个‘view’，其上的操作不会改变原数组。"
   ]
  },
  {
   "cell_type": "markdown",
   "metadata": {},
   "source": [
    "# ```ndarray```数组的转置和轴变化"
   ]
  },
  {
   "cell_type": "markdown",
   "metadata": {},
   "source": [
    "## 转置"
   ]
  },
  {
   "cell_type": "code",
   "execution_count": 13,
   "metadata": {
    "ExecuteTime": {
     "end_time": "2018-11-12T02:57:00.866083Z",
     "start_time": "2018-11-12T02:57:00.853120Z"
    },
    "scrolled": false
   },
   "outputs": [
    {
     "data": {
      "text/plain": [
       "array([[ 0.33551302, -0.92171334,  0.11178461, -0.64838518, -0.89711118],\n",
       "       [ 0.78074237, -0.87387376, -0.27523246,  0.87504988, -1.36991246],\n",
       "       [-0.77894808,  0.74963708, -0.60806912, -0.39429991,  1.95728409]])"
      ]
     },
     "execution_count": 13,
     "metadata": {},
     "output_type": "execute_result"
    },
    {
     "data": {
      "text/plain": [
       "array([[ 0.33551302, -0.92171334,  0.11178461, -0.64838518, -0.89711118],\n",
       "       [ 0.78074237, -0.87387376, -0.27523246,  0.87504988, -1.36991246],\n",
       "       [-0.77894808,  0.74963708, -0.60806912, -0.39429991,  1.95728409]])"
      ]
     },
     "execution_count": 13,
     "metadata": {},
     "output_type": "execute_result"
    }
   ],
   "source": [
    "# 两种方法：ndarray.T属性和ndarray.transpose()方法\n",
    "a = np.random.randn(5,3)\n",
    "a.transpose()\n",
    "a.T"
   ]
  },
  {
   "cell_type": "markdown",
   "metadata": {},
   "source": [
    "## 轴变换"
   ]
  },
  {
   "cell_type": "markdown",
   "metadata": {},
   "source": [
    "- ndarray.T是最简单的轴变换"
   ]
  },
  {
   "cell_type": "markdown",
   "metadata": {
    "ExecuteTime": {
     "end_time": "2018-11-10T09:11:22.428723Z",
     "start_time": "2018-11-10T09:11:22.397482Z"
    }
   },
   "source": [
    "- ```ndarray.transpose()```可以接受一个元组，用以表示轴的交换顺序"
   ]
  },
  {
   "cell_type": "code",
   "execution_count": 14,
   "metadata": {
    "ExecuteTime": {
     "end_time": "2018-11-12T02:57:00.885033Z",
     "start_time": "2018-11-12T02:57:00.870073Z"
    },
    "scrolled": true
   },
   "outputs": [
    {
     "data": {
      "text/plain": [
       "array([[[-0.20034546,  0.99043638, -0.19665417,  0.48876718],\n",
       "        [-0.2539418 ,  0.08517046, -0.59466   , -1.3700174 ]],\n",
       "\n",
       "       [[-0.80914778,  0.58811715,  0.90798738,  0.71315029],\n",
       "        [-0.70544647, -0.70782429, -0.20834517, -0.52891082]]])"
      ]
     },
     "execution_count": 14,
     "metadata": {},
     "output_type": "execute_result"
    },
    {
     "data": {
      "text/plain": [
       "array([[[-0.20034546,  0.99043638, -0.19665417,  0.48876718],\n",
       "        [-0.80914778,  0.58811715,  0.90798738,  0.71315029]],\n",
       "\n",
       "       [[-0.2539418 ,  0.08517046, -0.59466   , -1.3700174 ],\n",
       "        [-0.70544647, -0.70782429, -0.20834517, -0.52891082]]])"
      ]
     },
     "execution_count": 14,
     "metadata": {},
     "output_type": "execute_result"
    }
   ],
   "source": [
    "a = np.random.randn(2,2,4)\n",
    "a\n",
    "a.transpose(1,0,2)"
   ]
  },
  {
   "cell_type": "markdown",
   "metadata": {},
   "source": [
    "- ```ndarray.swapaxes()```对换两个轴的顺序"
   ]
  },
  {
   "cell_type": "code",
   "execution_count": 15,
   "metadata": {
    "ExecuteTime": {
     "end_time": "2018-11-12T02:57:00.905976Z",
     "start_time": "2018-11-12T02:57:00.890020Z"
    }
   },
   "outputs": [
    {
     "data": {
      "text/plain": [
       "array([[[-0.81140317,  1.79020023,  0.51059763, -1.59090933],\n",
       "        [ 0.26139785,  1.13631292,  0.39855895,  0.44797898]],\n",
       "\n",
       "       [[-1.24839548, -0.0988213 ,  0.57810655, -0.54544969],\n",
       "        [-0.02036017,  0.18559983, -1.88612177, -2.82263358]]])"
      ]
     },
     "execution_count": 15,
     "metadata": {},
     "output_type": "execute_result"
    },
    {
     "data": {
      "text/plain": [
       "array([[[-0.81140317,  1.79020023,  0.51059763, -1.59090933],\n",
       "        [-1.24839548, -0.0988213 ,  0.57810655, -0.54544969]],\n",
       "\n",
       "       [[ 0.26139785,  1.13631292,  0.39855895,  0.44797898],\n",
       "        [-0.02036017,  0.18559983, -1.88612177, -2.82263358]]])"
      ]
     },
     "execution_count": 15,
     "metadata": {},
     "output_type": "execute_result"
    }
   ],
   "source": [
    "a = np.random.randn(2,2,4)\n",
    "a\n",
    "a.swapaxes(0,1)"
   ]
  }
 ],
 "metadata": {
  "kernelspec": {
   "display_name": "Python 3",
   "language": "python",
   "name": "python3"
  },
  "language_info": {
   "codemirror_mode": {
    "name": "ipython",
    "version": 3
   },
   "file_extension": ".py",
   "mimetype": "text/x-python",
   "name": "python",
   "nbconvert_exporter": "python",
   "pygments_lexer": "ipython3",
   "version": "3.6.5"
  },
  "toc": {
   "base_numbering": 1,
   "nav_menu": {
    "height": "484.667px",
    "width": "709px"
   },
   "number_sections": true,
   "sideBar": true,
   "skip_h1_title": false,
   "title_cell": "Table of Contents",
   "title_sidebar": "Contents",
   "toc_cell": false,
   "toc_position": {
    "height": "calc(100% - 180px)",
    "left": "10px",
    "top": "150px",
    "width": "258.667px"
   },
   "toc_section_display": true,
   "toc_window_display": false
  },
  "varInspector": {
   "cols": {
    "lenName": 16,
    "lenType": 16,
    "lenVar": 40
   },
   "kernels_config": {
    "python": {
     "delete_cmd_postfix": "",
     "delete_cmd_prefix": "del ",
     "library": "var_list.py",
     "varRefreshCmd": "print(var_dic_list())"
    },
    "r": {
     "delete_cmd_postfix": ") ",
     "delete_cmd_prefix": "rm(",
     "library": "var_list.r",
     "varRefreshCmd": "cat(var_dic_list()) "
    }
   },
   "types_to_exclude": [
    "module",
    "function",
    "builtin_function_or_method",
    "instance",
    "_Feature"
   ],
   "window_display": false
  }
 },
 "nbformat": 4,
 "nbformat_minor": 2
}
