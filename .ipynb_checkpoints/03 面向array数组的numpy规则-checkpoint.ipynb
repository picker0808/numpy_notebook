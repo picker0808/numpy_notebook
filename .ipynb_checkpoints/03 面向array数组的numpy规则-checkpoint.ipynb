{
 "cells": [
  {
   "cell_type": "markdown",
   "metadata": {},
   "source": [
    "# 1 条件逻辑在array中的应用"
   ]
  },
  {
   "cell_type": "markdown",
   "metadata": {
    "ExecuteTime": {
     "end_time": "2018-11-11T09:09:42.619053Z",
     "start_time": "2018-11-11T09:09:42.594964Z"
    }
   },
   "source": [
    "在python中，可以使用三元表达式来表达条件逻辑。"
   ]
  },
  {
   "cell_type": "code",
   "execution_count": 1,
   "metadata": {
    "ExecuteTime": {
     "end_time": "2018-11-12T02:56:35.472536Z",
     "start_time": "2018-11-12T02:56:35.114092Z"
    }
   },
   "outputs": [
    {
     "data": {
      "text/plain": [
       "[1, -2, -3, 4]"
      ]
     },
     "execution_count": 1,
     "metadata": {},
     "output_type": "execute_result"
    }
   ],
   "source": [
    "# xarr,yarr,con三个数组,当con数组中对应值为True时，提取xarr数组中的值，否则提取yarr数组中的值\n",
    "import numpy as np\n",
    "xarr = [1,2,3,4]\n",
    "yarr = [-1,-2,-3,-4]\n",
    "con = [True,False,False,True]\n",
    "[x if c else y for x,y,c in zip(xarr,yarr,con)]"
   ]
  },
  {
   "cell_type": "markdown",
   "metadata": {},
   "source": [
    "使用三元表达式可以进行条件逻辑的表达，但存在一些问题：\n",
    "- 当数组极为庞大的时候，速度很慢\n",
    "- 当数组维数很多的时候，需要嵌套循环"
   ]
  },
  {
   "cell_type": "markdown",
   "metadata": {},
   "source": [
    "在numpy中，提供了```np.where```函数以供便捷的表达条件逻辑。"
   ]
  },
  {
   "cell_type": "code",
   "execution_count": 2,
   "metadata": {
    "ExecuteTime": {
     "end_time": "2018-11-12T02:56:35.512845Z",
     "start_time": "2018-11-12T02:56:35.474578Z"
    },
    "scrolled": true
   },
   "outputs": [
    {
     "data": {
      "text/plain": [
       "array([ 1, -2, -3,  4])"
      ]
     },
     "execution_count": 2,
     "metadata": {},
     "output_type": "execute_result"
    },
    {
     "data": {
      "text/plain": [
       "(array([0, 3], dtype=int64),)"
      ]
     },
     "execution_count": 2,
     "metadata": {},
     "output_type": "execute_result"
    },
    {
     "data": {
      "text/plain": [
       "array([1, 4])"
      ]
     },
     "execution_count": 2,
     "metadata": {},
     "output_type": "execute_result"
    }
   ],
   "source": [
    "np.where(con,xarr,yarr)\n",
    "np.where(con)\n",
    "np.array(xarr)[np.where(con)]"
   ]
  },
  {
   "cell_type": "code",
   "execution_count": 3,
   "metadata": {
    "ExecuteTime": {
     "end_time": "2018-11-12T02:56:35.538487Z",
     "start_time": "2018-11-12T02:56:35.512845Z"
    },
    "scrolled": false
   },
   "outputs": [
    {
     "data": {
      "text/plain": [
       "(array([1, 1, 2, 2, 2], dtype=int64), array([1, 2, 0, 1, 2], dtype=int64))"
      ]
     },
     "execution_count": 3,
     "metadata": {},
     "output_type": "execute_result"
    },
    {
     "data": {
      "text/plain": [
       "array([4, 5, 6, 7, 8])"
      ]
     },
     "execution_count": 3,
     "metadata": {},
     "output_type": "execute_result"
    },
    {
     "data": {
      "text/plain": [
       "array([4, 5, 6, 7, 8])"
      ]
     },
     "execution_count": 3,
     "metadata": {},
     "output_type": "execute_result"
    }
   ],
   "source": [
    "a = np.arange(9).reshape(3,3 )\n",
    "np.where(a>3)\n",
    "a[np.where(a>3)]\n",
    "a[[1,1,2,2,2],[1,2,0,1,2]]"
   ]
  },
  {
   "cell_type": "markdown",
   "metadata": {},
   "source": [
    "## 2 算术和统计方法"
   ]
  },
  {
   "cell_type": "markdown",
   "metadata": {},
   "source": [
    "## 2.1 ```sum, mean, std, var```等函数或方法"
   ]
  },
  {
   "cell_type": "markdown",
   "metadata": {
    "ExecuteTime": {
     "end_time": "2018-11-11T11:05:43.481316Z",
     "start_time": "2018-11-11T11:05:43.474336Z"
    }
   },
   "source": [
    "分别用于计算数组值的和、平均数、标准差、方差。\n",
    "既可用作方法，也能用作函数：```np.sum(array)```或```array.sum()```"
   ]
  },
  {
   "cell_type": "code",
   "execution_count": 4,
   "metadata": {
    "ExecuteTime": {
     "end_time": "2018-11-12T02:56:35.585350Z",
     "start_time": "2018-11-12T02:56:35.538487Z"
    }
   },
   "outputs": [
    {
     "data": {
      "text/plain": [
       "array([[-0.3273523 , -0.76806445, -0.06219133,  2.09624222, -2.02671166,\n",
       "        -1.1068659 ],\n",
       "       [-2.9285562 , -0.62564975,  1.42119103, -0.74763411, -0.13580378,\n",
       "         0.42410196],\n",
       "       [ 0.56059398, -0.08547611, -0.35431213,  0.37786488, -0.8954043 ,\n",
       "         1.1270331 ],\n",
       "       [ 1.03965414, -0.24778016,  0.66097694, -0.78710785,  1.17467714,\n",
       "         0.07128388]])"
      ]
     },
     "execution_count": 4,
     "metadata": {},
     "output_type": "execute_result"
    },
    {
     "data": {
      "text/plain": [
       "-0.08938711556171407"
      ]
     },
     "execution_count": 4,
     "metadata": {},
     "output_type": "execute_result"
    },
    {
     "data": {
      "text/plain": [
       "array([-0.4139151 , -0.43174262,  0.41641613,  0.23484128, -0.47081065,\n",
       "        0.12888826])"
      ]
     },
     "execution_count": 4,
     "metadata": {},
     "output_type": "execute_result"
    },
    {
     "data": {
      "text/plain": [
       "array([-0.3658239 , -0.43205848,  0.12171657,  0.31861735])"
      ]
     },
     "execution_count": 4,
     "metadata": {},
     "output_type": "execute_result"
    }
   ],
   "source": [
    "# 几个统计函数均存在一个axis参数，可以选择一条轴线，以轴线为基准求统计特性\n",
    "x = np.random.randn(4,6)\n",
    "x\n",
    "x.mean()\n",
    "x.mean(axis=0)\n",
    "x.mean(axis=1)"
   ]
  },
  {
   "cell_type": "markdown",
   "metadata": {},
   "source": [
    "## 2.2 ```min, max```函数或方法及```argmin,argmax```函数或方法"
   ]
  },
  {
   "cell_type": "markdown",
   "metadata": {},
   "source": [
    "可以设置axis参数。"
   ]
  },
  {
   "cell_type": "code",
   "execution_count": 5,
   "metadata": {
    "ExecuteTime": {
     "end_time": "2018-11-12T02:56:35.616594Z",
     "start_time": "2018-11-12T02:56:35.585350Z"
    },
    "scrolled": false
   },
   "outputs": [
    {
     "data": {
      "text/plain": [
       "array([[-0.3273523 , -0.76806445, -0.06219133,  2.09624222, -2.02671166,\n",
       "        -1.1068659 ],\n",
       "       [-2.9285562 , -0.62564975,  1.42119103, -0.74763411, -0.13580378,\n",
       "         0.42410196],\n",
       "       [ 0.56059398, -0.08547611, -0.35431213,  0.37786488, -0.8954043 ,\n",
       "         1.1270331 ],\n",
       "       [ 1.03965414, -0.24778016,  0.66097694, -0.78710785,  1.17467714,\n",
       "         0.07128388]])"
      ]
     },
     "execution_count": 5,
     "metadata": {},
     "output_type": "execute_result"
    },
    {
     "data": {
      "text/plain": [
       "2.096242218851209"
      ]
     },
     "execution_count": 5,
     "metadata": {},
     "output_type": "execute_result"
    },
    {
     "data": {
      "text/plain": [
       "array([2.09624222, 1.42119103, 1.1270331 , 1.17467714])"
      ]
     },
     "execution_count": 5,
     "metadata": {},
     "output_type": "execute_result"
    }
   ],
   "source": [
    "x\n",
    "x.max()\n",
    "x.max(axis=1)"
   ]
  },
  {
   "cell_type": "code",
   "execution_count": 6,
   "metadata": {
    "ExecuteTime": {
     "end_time": "2018-11-12T02:56:35.656491Z",
     "start_time": "2018-11-12T02:56:35.616594Z"
    },
    "scrolled": true
   },
   "outputs": [
    {
     "data": {
      "text/plain": [
       "array([[-0.3273523 , -0.76806445, -0.06219133,  2.09624222, -2.02671166,\n",
       "        -1.1068659 ],\n",
       "       [-2.9285562 , -0.62564975,  1.42119103, -0.74763411, -0.13580378,\n",
       "         0.42410196],\n",
       "       [ 0.56059398, -0.08547611, -0.35431213,  0.37786488, -0.8954043 ,\n",
       "         1.1270331 ],\n",
       "       [ 1.03965414, -0.24778016,  0.66097694, -0.78710785,  1.17467714,\n",
       "         0.07128388]])"
      ]
     },
     "execution_count": 6,
     "metadata": {},
     "output_type": "execute_result"
    },
    {
     "data": {
      "text/plain": [
       "3"
      ]
     },
     "execution_count": 6,
     "metadata": {},
     "output_type": "execute_result"
    },
    {
     "data": {
      "text/plain": [
       "array([3, 2, 5, 4], dtype=int64)"
      ]
     },
     "execution_count": 6,
     "metadata": {},
     "output_type": "execute_result"
    }
   ],
   "source": [
    "# argmin和argmax返回最大值的索引号\n",
    "x\n",
    "x.argmax()\n",
    "x.argmax(axis=1)"
   ]
  },
  {
   "cell_type": "markdown",
   "metadata": {},
   "source": [
    "## 2.3 ```cumsum, cumprod```函数或方法"
   ]
  },
  {
   "cell_type": "markdown",
   "metadata": {},
   "source": [
    "分别为累加和累乘函数，同样可以设置axis参数。"
   ]
  },
  {
   "cell_type": "code",
   "execution_count": 7,
   "metadata": {
    "ExecuteTime": {
     "end_time": "2018-11-12T02:56:35.687734Z",
     "start_time": "2018-11-12T02:56:35.656491Z"
    },
    "scrolled": true
   },
   "outputs": [
    {
     "data": {
      "text/plain": [
       "array([[0, 1, 2],\n",
       "       [3, 4, 5],\n",
       "       [6, 7, 8]])"
      ]
     },
     "execution_count": 7,
     "metadata": {},
     "output_type": "execute_result"
    },
    {
     "data": {
      "text/plain": [
       "array([ 0,  1,  3,  6, 10, 15, 21, 28, 36], dtype=int32)"
      ]
     },
     "execution_count": 7,
     "metadata": {},
     "output_type": "execute_result"
    },
    {
     "data": {
      "text/plain": [
       "array([[ 0,  1,  3],\n",
       "       [ 3,  7, 12],\n",
       "       [ 6, 13, 21]], dtype=int32)"
      ]
     },
     "execution_count": 7,
     "metadata": {},
     "output_type": "execute_result"
    },
    {
     "data": {
      "text/plain": [
       "array([     1,      2,      6,     24,    120,    720,   5040,  40320,\n",
       "       362880], dtype=int32)"
      ]
     },
     "execution_count": 7,
     "metadata": {},
     "output_type": "execute_result"
    },
    {
     "data": {
      "text/plain": [
       "array([[  1,   2,   6],\n",
       "       [  4,  20, 120],\n",
       "       [  7,  56, 504]], dtype=int32)"
      ]
     },
     "execution_count": 7,
     "metadata": {},
     "output_type": "execute_result"
    }
   ],
   "source": [
    "x = np.arange(9).reshape(3,3)\n",
    "x\n",
    "x.cumsum()\n",
    "x.cumsum(axis=1)\n",
    "x = x + 1\n",
    "x.cumprod()\n",
    "x.cumprod(axis=1)"
   ]
  },
  {
   "cell_type": "markdown",
   "metadata": {},
   "source": [
    "# 3 布尔数组的应用"
   ]
  },
  {
   "cell_type": "markdown",
   "metadata": {},
   "source": [
    "- 使用```sum```方法或函数对布尔数组进行求和，因为真值都为1，因此求和所得值即为真值个数。"
   ]
  },
  {
   "cell_type": "code",
   "execution_count": 8,
   "metadata": {
    "ExecuteTime": {
     "end_time": "2018-11-12T02:56:35.703355Z",
     "start_time": "2018-11-12T02:56:35.687734Z"
    }
   },
   "outputs": [
    {
     "data": {
      "text/plain": [
       "13"
      ]
     },
     "execution_count": 8,
     "metadata": {},
     "output_type": "execute_result"
    }
   ],
   "source": [
    "x = np.random.randn(100)\n",
    "np.sum(x>1)"
   ]
  },
  {
   "cell_type": "markdown",
   "metadata": {},
   "source": [
    "- ```any, all```方法"
   ]
  },
  {
   "cell_type": "code",
   "execution_count": 9,
   "metadata": {
    "ExecuteTime": {
     "end_time": "2018-11-12T02:56:35.738643Z",
     "start_time": "2018-11-12T02:56:35.703355Z"
    },
    "scrolled": true
   },
   "outputs": [
    {
     "data": {
      "text/plain": [
       "False"
      ]
     },
     "execution_count": 9,
     "metadata": {},
     "output_type": "execute_result"
    },
    {
     "data": {
      "text/plain": [
       "True"
      ]
     },
     "execution_count": 9,
     "metadata": {},
     "output_type": "execute_result"
    }
   ],
   "source": [
    "# any：数组中任一值为真，则返回真，否则返回假。\n",
    "# all：数组中所有值为真，则返回真，否则返回假。\n",
    "(x>1).all()\n",
    "(x>1).any()"
   ]
  },
  {
   "cell_type": "markdown",
   "metadata": {},
   "source": [
    "# 4 ```array```对象的排序"
   ]
  },
  {
   "cell_type": "markdown",
   "metadata": {
    "ExecuteTime": {
     "end_time": "2018-11-12T01:29:45.748574Z",
     "start_time": "2018-11-12T01:29:45.731619Z"
    }
   },
   "source": [
    "```array```对象的排序有两个方法：```np.sort()```函数和```.sort()```方法\n",
    "- ```np.sort()```函数：创建一个原数组的排序后的**复制**\n",
    "- ```.sort()```方法：**就地**排序"
   ]
  },
  {
   "cell_type": "code",
   "execution_count": 10,
   "metadata": {
    "ExecuteTime": {
     "end_time": "2018-11-12T02:56:35.769889Z",
     "start_time": "2018-11-12T02:56:35.738643Z"
    },
    "scrolled": true
   },
   "outputs": [
    {
     "data": {
      "text/plain": [
       "array([[-1.73618318, -2.72947795, -0.35985215, -1.01226248],\n",
       "       [ 1.93179178, -1.24046728,  0.29593232,  0.74190593],\n",
       "       [ 0.12715395, -0.96082227, -0.41461484, -0.19288902],\n",
       "       [-1.88910664, -0.63413062, -1.43987659,  1.03026924]])"
      ]
     },
     "execution_count": 10,
     "metadata": {},
     "output_type": "execute_result"
    },
    {
     "data": {
      "text/plain": [
       "array([[-2.72947795, -1.73618318, -1.01226248, -0.35985215],\n",
       "       [-1.24046728,  0.29593232,  0.74190593,  1.93179178],\n",
       "       [-0.96082227, -0.41461484, -0.19288902,  0.12715395],\n",
       "       [-1.88910664, -1.43987659, -0.63413062,  1.03026924]])"
      ]
     },
     "execution_count": 10,
     "metadata": {},
     "output_type": "execute_result"
    },
    {
     "data": {
      "text/plain": [
       "array([-2.72947795, -1.88910664, -1.73618318, -1.43987659, -1.24046728,\n",
       "       -1.01226248, -0.96082227, -0.63413062, -0.41461484, -0.35985215,\n",
       "       -0.19288902,  0.12715395,  0.29593232,  0.74190593,  1.03026924,\n",
       "        1.93179178])"
      ]
     },
     "execution_count": 10,
     "metadata": {},
     "output_type": "execute_result"
    }
   ],
   "source": [
    "x = np.random.randn(4,4)\n",
    "x\n",
    "x.sort()\n",
    "x\n",
    "np.sort(x,axis=None)"
   ]
  },
  {
   "cell_type": "markdown",
   "metadata": {},
   "source": [
    "按照```order```参数指定的值进行排序"
   ]
  },
  {
   "cell_type": "code",
   "execution_count": 11,
   "metadata": {
    "ExecuteTime": {
     "end_time": "2018-11-12T02:56:35.801127Z",
     "start_time": "2018-11-12T02:56:35.769889Z"
    }
   },
   "outputs": [
    {
     "data": {
      "text/plain": [
       "array([(b'chen', 24., 60), (b'yu', 27., 55), (b'yaonver',  5., 10)],\n",
       "      dtype=[('name', 'S10'), ('age', '<f8'), ('weight', '<i4')])"
      ]
     },
     "execution_count": 11,
     "metadata": {},
     "output_type": "execute_result"
    },
    {
     "data": {
      "text/plain": [
       "array([(b'yaonver',  5., 10), (b'chen', 24., 60), (b'yu', 27., 55)],\n",
       "      dtype=[('name', 'S10'), ('age', '<f8'), ('weight', '<i4')])"
      ]
     },
     "execution_count": 11,
     "metadata": {},
     "output_type": "execute_result"
    }
   ],
   "source": [
    "dtype = [('name','S10'),('age',float),('weight',int)]\n",
    "values = [('chen',24,60),('yu',27,55),('yaonver',5,10)]\n",
    "x = np.array(values,dtype=dtype)\n",
    "x\n",
    "x.sort(order='age')\n",
    "x"
   ]
  },
  {
   "cell_type": "markdown",
   "metadata": {},
   "source": [
    "除此之外，可以利用排序功能确定数组的分位数。"
   ]
  },
  {
   "cell_type": "code",
   "execution_count": 12,
   "metadata": {
    "ExecuteTime": {
     "end_time": "2018-11-12T02:56:35.816749Z",
     "start_time": "2018-11-12T02:56:35.801127Z"
    }
   },
   "outputs": [
    {
     "data": {
      "text/plain": [
       "-1.6638119215228164"
      ]
     },
     "execution_count": 12,
     "metadata": {},
     "output_type": "execute_result"
    }
   ],
   "source": [
    "# 5%分位数\n",
    "large_arr = np.random.randn(1000)\n",
    "large_arr.sort()\n",
    "large_arr[int(0.05*len(large_arr))]"
   ]
  },
  {
   "cell_type": "markdown",
   "metadata": {
    "ExecuteTime": {
     "end_time": "2018-11-12T02:20:30.387382Z",
     "start_time": "2018-11-12T02:20:30.371751Z"
    }
   },
   "source": [
    "# 5 numpy中的集合"
   ]
  },
  {
   "cell_type": "markdown",
   "metadata": {},
   "source": [
    "## 5.1 数组唯一值"
   ]
  },
  {
   "cell_type": "markdown",
   "metadata": {},
   "source": [
    "与原生python中的set()和sorted()组合功能不同,```np.unique```函数将这两个功能集合到一起，返回排序好的集合数组。"
   ]
  },
  {
   "cell_type": "code",
   "execution_count": 13,
   "metadata": {
    "ExecuteTime": {
     "end_time": "2018-11-12T02:56:35.838893Z",
     "start_time": "2018-11-12T02:56:35.816749Z"
    }
   },
   "outputs": [
    {
     "data": {
      "text/plain": [
       "array(['Bob', 'Joe', 'Marry', 'Will'], dtype='<U5')"
      ]
     },
     "execution_count": 13,
     "metadata": {},
     "output_type": "execute_result"
    }
   ],
   "source": [
    "x = np.array(['Bob','Marry','Will','Bob','Joe','Will','Marry'])\n",
    "np.unique(x)"
   ]
  },
  {
   "cell_type": "markdown",
   "metadata": {},
   "source": [
    "在原生python中，需要进行两次操作。"
   ]
  },
  {
   "cell_type": "code",
   "execution_count": 14,
   "metadata": {
    "ExecuteTime": {
     "end_time": "2018-11-12T02:56:35.854514Z",
     "start_time": "2018-11-12T02:56:35.838893Z"
    }
   },
   "outputs": [
    {
     "data": {
      "text/plain": [
       "['Bob', 'Joe', 'Marry', 'Will']"
      ]
     },
     "execution_count": 14,
     "metadata": {},
     "output_type": "execute_result"
    }
   ],
   "source": [
    "sorted(set(x))"
   ]
  },
  {
   "cell_type": "markdown",
   "metadata": {},
   "source": [
    "## 5.2 ```in1d, union1d, intersect1d, setdiff1d, setxor1d```判断"
   ]
  },
  {
   "cell_type": "markdown",
   "metadata": {},
   "source": [
    "- ```np.in1d()```：判断一个数组中的值是否在另一个数组中,无论数组是几维，最终都返回一个一维数组。"
   ]
  },
  {
   "cell_type": "code",
   "execution_count": 15,
   "metadata": {
    "ExecuteTime": {
     "end_time": "2018-11-12T02:56:35.885757Z",
     "start_time": "2018-11-12T02:56:35.854514Z"
    }
   },
   "outputs": [
    {
     "data": {
      "text/plain": [
       "array([ True,  True,  True,  True,  True,  True,  True,  True,  True,\n",
       "        True,  True,  True,  True,  True,  True,  True])"
      ]
     },
     "execution_count": 15,
     "metadata": {},
     "output_type": "execute_result"
    }
   ],
   "source": [
    "x = np.random.randn(4,4)\n",
    "np.in1d(x,x)"
   ]
  },
  {
   "cell_type": "markdown",
   "metadata": {},
   "source": [
    "- ```np.union1d()```：返回已排序好的两个数组的并集。"
   ]
  },
  {
   "cell_type": "code",
   "execution_count": 16,
   "metadata": {
    "ExecuteTime": {
     "end_time": "2018-11-12T02:56:35.916999Z",
     "start_time": "2018-11-12T02:56:35.885757Z"
    }
   },
   "outputs": [
    {
     "data": {
      "text/plain": [
       "array([[ 1.30379261,  1.86061952, -0.64716721],\n",
       "       [ 1.55696399,  0.5658028 ,  0.09582949],\n",
       "       [ 1.31747063,  0.96206906, -0.05512638]])"
      ]
     },
     "execution_count": 16,
     "metadata": {},
     "output_type": "execute_result"
    },
    {
     "data": {
      "text/plain": [
       "array([0, 1, 2, 3, 4, 5, 6, 7, 8])"
      ]
     },
     "execution_count": 16,
     "metadata": {},
     "output_type": "execute_result"
    },
    {
     "data": {
      "text/plain": [
       "array([-0.64716721, -0.05512638,  0.        ,  0.09582949,  0.5658028 ,\n",
       "        0.96206906,  1.        ,  1.30379261,  1.31747063,  1.55696399,\n",
       "        1.86061952,  2.        ,  3.        ,  4.        ,  5.        ,\n",
       "        6.        ,  7.        ,  8.        ])"
      ]
     },
     "execution_count": 16,
     "metadata": {},
     "output_type": "execute_result"
    }
   ],
   "source": [
    "x = np.random.randn(3,3)\n",
    "y = np.arange(9)\n",
    "x\n",
    "y\n",
    "np.union1d(x,y)"
   ]
  },
  {
   "cell_type": "markdown",
   "metadata": {},
   "source": [
    "- ```np.intersect1d()```：返回已排序好的两个数组的交集。"
   ]
  },
  {
   "cell_type": "code",
   "execution_count": 17,
   "metadata": {
    "ExecuteTime": {
     "end_time": "2018-11-12T02:56:35.939142Z",
     "start_time": "2018-11-12T02:56:35.916999Z"
    }
   },
   "outputs": [
    {
     "data": {
      "text/plain": [
       "array([4, 5])"
      ]
     },
     "execution_count": 17,
     "metadata": {},
     "output_type": "execute_result"
    }
   ],
   "source": [
    "x = np.array([1,2,3,4,5])\n",
    "y = np.array([4,5,6,7,8])\n",
    "np.intersect1d(x,y)"
   ]
  },
  {
   "cell_type": "markdown",
   "metadata": {},
   "source": [
    "- ```np.setdiff1d(x, y)```：返回在x数组中，但不在y数组中的值。"
   ]
  },
  {
   "cell_type": "code",
   "execution_count": 18,
   "metadata": {
    "ExecuteTime": {
     "end_time": "2018-11-12T02:56:35.954764Z",
     "start_time": "2018-11-12T02:56:35.939142Z"
    }
   },
   "outputs": [
    {
     "data": {
      "text/plain": [
       "array([1, 2, 3])"
      ]
     },
     "execution_count": 18,
     "metadata": {},
     "output_type": "execute_result"
    }
   ],
   "source": [
    "np.setdiff1d(x,y)"
   ]
  },
  {
   "cell_type": "markdown",
   "metadata": {},
   "source": [
    "- ```np.setxor(x, y)```：返回不同时存在与x,y数组中的值。"
   ]
  },
  {
   "cell_type": "code",
   "execution_count": 19,
   "metadata": {
    "ExecuteTime": {
     "end_time": "2018-11-12T02:56:35.970386Z",
     "start_time": "2018-11-12T02:56:35.954764Z"
    }
   },
   "outputs": [
    {
     "data": {
      "text/plain": [
       "array([1, 2, 3, 6, 7, 8])"
      ]
     },
     "execution_count": 19,
     "metadata": {},
     "output_type": "execute_result"
    }
   ],
   "source": [
    "np.setxor1d(x,y)"
   ]
  }
 ],
 "metadata": {
  "kernelspec": {
   "display_name": "Python 3",
   "language": "python",
   "name": "python3"
  },
  "language_info": {
   "codemirror_mode": {
    "name": "ipython",
    "version": 3
   },
   "file_extension": ".py",
   "mimetype": "text/x-python",
   "name": "python",
   "nbconvert_exporter": "python",
   "pygments_lexer": "ipython3",
   "version": "3.6.5"
  },
  "toc": {
   "base_numbering": 1,
   "nav_menu": {},
   "number_sections": false,
   "sideBar": true,
   "skip_h1_title": false,
   "title_cell": "Table of Contents",
   "title_sidebar": "Contents",
   "toc_cell": false,
   "toc_position": {},
   "toc_section_display": true,
   "toc_window_display": true
  },
  "varInspector": {
   "cols": {
    "lenName": 16,
    "lenType": 16,
    "lenVar": 40
   },
   "kernels_config": {
    "python": {
     "delete_cmd_postfix": "",
     "delete_cmd_prefix": "del ",
     "library": "var_list.py",
     "varRefreshCmd": "print(var_dic_list())"
    },
    "r": {
     "delete_cmd_postfix": ") ",
     "delete_cmd_prefix": "rm(",
     "library": "var_list.r",
     "varRefreshCmd": "cat(var_dic_list()) "
    }
   },
   "types_to_exclude": [
    "module",
    "function",
    "builtin_function_or_method",
    "instance",
    "_Feature"
   ],
   "window_display": false
  }
 },
 "nbformat": 4,
 "nbformat_minor": 2
}
