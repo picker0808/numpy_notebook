{
 "cells": [
  {
   "cell_type": "markdown",
   "metadata": {
    "ExecuteTime": {
     "end_time": "2018-11-10T09:38:02.656887Z",
     "start_time": "2018-11-10T09:38:02.641264Z"
    }
   },
   "source": [
    "# 1 一元通用函数"
   ]
  },
  {
   "cell_type": "markdown",
   "metadata": {},
   "source": [
    "## 1.1 ```np.abs```和```np.fabs```都能够返回数组的绝对值。\n",
    "- ```np.abs()```能够返回**复数**的绝对值\n",
    "- ```np.fabs()```只能够返回**浮点数**和**整数**的绝对值"
   ]
  },
  {
   "cell_type": "markdown",
   "metadata": {
    "ExecuteTime": {
     "end_time": "2018-11-10T10:34:45.376571Z",
     "start_time": "2018-11-10T10:34:45.333684Z"
    }
   },
   "source": [
    "## 1.2 ```np.sqrt```和```np.square```分别求根和平方"
   ]
  },
  {
   "cell_type": "code",
   "execution_count": 1,
   "metadata": {
    "ExecuteTime": {
     "end_time": "2018-11-12T02:57:44.591134Z",
     "start_time": "2018-11-12T02:57:44.243511Z"
    },
    "scrolled": true
   },
   "outputs": [
    {
     "data": {
      "text/plain": [
       "array([1.        , 1.41421356, 1.73205081, 2.        , 2.23606798])"
      ]
     },
     "execution_count": 1,
     "metadata": {},
     "output_type": "execute_result"
    },
    {
     "data": {
      "text/plain": [
       "array([ 1,  4,  9, 16, 25], dtype=int32)"
      ]
     },
     "execution_count": 1,
     "metadata": {},
     "output_type": "execute_result"
    }
   ],
   "source": [
    "import numpy as np\n",
    "a = np.array([1,2,3,4,5])\n",
    "np.sqrt(a)\n",
    "np.square(a)"
   ]
  },
  {
   "cell_type": "markdown",
   "metadata": {},
   "source": [
    "## 1.3 ```np.exp```、```np.log```、```np.log10```、```np.log2```、```np.log1p```等对数函数"
   ]
  },
  {
   "cell_type": "markdown",
   "metadata": {},
   "source": [
    "* ```np.exp```即求$e^x$的值"
   ]
  },
  {
   "cell_type": "code",
   "execution_count": 2,
   "metadata": {
    "ExecuteTime": {
     "end_time": "2018-11-12T02:57:44.606755Z",
     "start_time": "2018-11-12T02:57:44.591134Z"
    }
   },
   "outputs": [
    {
     "data": {
      "text/plain": [
       "array([ 2.71828183,  7.3890561 , 20.08553692, 54.59815003])"
      ]
     },
     "execution_count": 2,
     "metadata": {},
     "output_type": "execute_result"
    }
   ],
   "source": [
    "a = np.array([1,2,3,4])\n",
    "np.exp(a)"
   ]
  },
  {
   "cell_type": "markdown",
   "metadata": {},
   "source": [
    "* ```np.log```即求$lnx$的值"
   ]
  },
  {
   "cell_type": "code",
   "execution_count": 3,
   "metadata": {
    "ExecuteTime": {
     "end_time": "2018-11-12T02:57:44.622378Z",
     "start_time": "2018-11-12T02:57:44.606755Z"
    }
   },
   "outputs": [
    {
     "data": {
      "text/plain": [
       "array([0.        , 0.69314718, 1.09861229, 1.38629436])"
      ]
     },
     "execution_count": 3,
     "metadata": {},
     "output_type": "execute_result"
    }
   ],
   "source": [
    "a = np.array([1,2,3,4])\n",
    "np.log(a)"
   ]
  },
  {
   "cell_type": "markdown",
   "metadata": {
    "ExecuteTime": {
     "end_time": "2018-11-11T05:17:16.812612Z",
     "start_time": "2018-11-11T05:17:16.781368Z"
    }
   },
   "source": [
    "* ```np.log10```即求$log_{10}x$的值,```np.log2```同理"
   ]
  },
  {
   "cell_type": "code",
   "execution_count": 4,
   "metadata": {
    "ExecuteTime": {
     "end_time": "2018-11-12T02:57:44.637998Z",
     "start_time": "2018-11-12T02:57:44.622378Z"
    }
   },
   "outputs": [
    {
     "data": {
      "text/plain": [
       "array([1., 2., 3., 4.])"
      ]
     },
     "execution_count": 4,
     "metadata": {},
     "output_type": "execute_result"
    }
   ],
   "source": [
    "a = np.array([10,100,1000,10000])\n",
    "np.log10(a)"
   ]
  },
  {
   "cell_type": "markdown",
   "metadata": {},
   "source": [
    "* ```np.log1p```即$ln(1+x)$的值"
   ]
  },
  {
   "cell_type": "code",
   "execution_count": 5,
   "metadata": {
    "ExecuteTime": {
     "end_time": "2018-11-12T02:57:44.660156Z",
     "start_time": "2018-11-12T02:57:44.637998Z"
    },
    "scrolled": true
   },
   "outputs": [
    {
     "data": {
      "text/plain": [
       "array([   10,   100,  1000, 10000])"
      ]
     },
     "execution_count": 5,
     "metadata": {},
     "output_type": "execute_result"
    },
    {
     "data": {
      "text/plain": [
       "array([2.39789527, 4.61512052, 6.90875478, 9.21044037])"
      ]
     },
     "execution_count": 5,
     "metadata": {},
     "output_type": "execute_result"
    }
   ],
   "source": [
    "a\n",
    "np.log1p(a)"
   ]
  },
  {
   "cell_type": "markdown",
   "metadata": {},
   "source": [
    "## 1.4 ```np.sign```和```np.ceil\\np.floor```函数"
   ]
  },
  {
   "cell_type": "code",
   "execution_count": 6,
   "metadata": {
    "ExecuteTime": {
     "end_time": "2018-11-12T02:57:44.675777Z",
     "start_time": "2018-11-12T02:57:44.660156Z"
    },
    "scrolled": true
   },
   "outputs": [
    {
     "data": {
      "text/plain": [
       "array([[ 1.,  1.,  1., -1., -1.],\n",
       "       [-1.,  1.,  1.,  1.,  1.],\n",
       "       [ 1.,  1., -1.,  1.,  1.],\n",
       "       [ 1., -1., -1.,  1.,  1.],\n",
       "       [-1., -1.,  1., -1., -1.]])"
      ]
     },
     "execution_count": 6,
     "metadata": {},
     "output_type": "execute_result"
    }
   ],
   "source": [
    "# np.sign函数用以标记数组中的值正负：1表示正，-1表示负，0表示零\n",
    "a = np.random.randn(5,5)\n",
    "np.sign(a)"
   ]
  },
  {
   "cell_type": "code",
   "execution_count": 7,
   "metadata": {
    "ExecuteTime": {
     "end_time": "2018-11-12T02:57:44.707023Z",
     "start_time": "2018-11-12T02:57:44.675777Z"
    },
    "scrolled": true
   },
   "outputs": [
    {
     "data": {
      "text/plain": [
       "array([[  6.77017895,   9.80237202,  15.36142335,  -1.42988982,\n",
       "        -26.80051016],\n",
       "       [ -2.57161826,   2.33880447,   2.38597427,   8.86874999,\n",
       "          8.18031281],\n",
       "       [  8.88435347,  18.85010493, -22.6213526 ,  20.64982933,\n",
       "          6.34030456],\n",
       "       [ 24.78846566,  -4.17591627,  -0.87976126,   6.26356673,\n",
       "          7.47421236],\n",
       "       [-16.60456245,  -5.16027613,   9.33021374,  -3.85512628,\n",
       "         -5.57954696]])"
      ]
     },
     "execution_count": 7,
     "metadata": {},
     "output_type": "execute_result"
    },
    {
     "data": {
      "text/plain": [
       "array([[  7.,  10.,  16.,  -1., -26.],\n",
       "       [ -2.,   3.,   3.,   9.,   9.],\n",
       "       [  9.,  19., -22.,  21.,   7.],\n",
       "       [ 25.,  -4.,  -0.,   7.,   8.],\n",
       "       [-16.,  -5.,  10.,  -3.,  -5.]])"
      ]
     },
     "execution_count": 7,
     "metadata": {},
     "output_type": "execute_result"
    }
   ],
   "source": [
    "# np.ceil函数返回数组中每个值的“ceil value”，即大于当前值的最小值\n",
    "a*10\n",
    "np.ceil(a*10)"
   ]
  },
  {
   "cell_type": "code",
   "execution_count": 8,
   "metadata": {
    "ExecuteTime": {
     "end_time": "2018-11-12T02:57:44.738265Z",
     "start_time": "2018-11-12T02:57:44.707023Z"
    },
    "scrolled": true
   },
   "outputs": [
    {
     "data": {
      "text/plain": [
       "array([[  6.77017895,   9.80237202,  15.36142335,  -1.42988982,\n",
       "        -26.80051016],\n",
       "       [ -2.57161826,   2.33880447,   2.38597427,   8.86874999,\n",
       "          8.18031281],\n",
       "       [  8.88435347,  18.85010493, -22.6213526 ,  20.64982933,\n",
       "          6.34030456],\n",
       "       [ 24.78846566,  -4.17591627,  -0.87976126,   6.26356673,\n",
       "          7.47421236],\n",
       "       [-16.60456245,  -5.16027613,   9.33021374,  -3.85512628,\n",
       "         -5.57954696]])"
      ]
     },
     "execution_count": 8,
     "metadata": {},
     "output_type": "execute_result"
    },
    {
     "data": {
      "text/plain": [
       "array([[  6.,   9.,  15.,  -2., -27.],\n",
       "       [ -3.,   2.,   2.,   8.,   8.],\n",
       "       [  8.,  18., -23.,  20.,   6.],\n",
       "       [ 24.,  -5.,  -1.,   6.,   7.],\n",
       "       [-17.,  -6.,   9.,  -4.,  -6.]])"
      ]
     },
     "execution_count": 8,
     "metadata": {},
     "output_type": "execute_result"
    }
   ],
   "source": [
    "# np.floor函数返回数组中每个值的“floor value”，即小于当前值的最大值\n",
    "a*10\n",
    "np.floor(a*10)"
   ]
  },
  {
   "cell_type": "markdown",
   "metadata": {},
   "source": [
    "## 1.5 ```np.rint```和```np.modf```函数"
   ]
  },
  {
   "cell_type": "code",
   "execution_count": 9,
   "metadata": {
    "ExecuteTime": {
     "end_time": "2018-11-12T02:57:44.760403Z",
     "start_time": "2018-11-12T02:57:44.738265Z"
    },
    "scrolled": false
   },
   "outputs": [
    {
     "data": {
      "text/plain": [
       "array([[ 0.6770179 ,  0.9802372 ,  1.53614233, -0.14298898, -2.68005102],\n",
       "       [-0.25716183,  0.23388045,  0.23859743,  0.886875  ,  0.81803128],\n",
       "       [ 0.88843535,  1.88501049, -2.26213526,  2.06498293,  0.63403046],\n",
       "       [ 2.47884657, -0.41759163, -0.08797613,  0.62635667,  0.74742124],\n",
       "       [-1.66045624, -0.51602761,  0.93302137, -0.38551263, -0.5579547 ]])"
      ]
     },
     "execution_count": 9,
     "metadata": {},
     "output_type": "execute_result"
    },
    {
     "data": {
      "text/plain": [
       "array([[ 1.,  1.,  2., -0., -3.],\n",
       "       [-0.,  0.,  0.,  1.,  1.],\n",
       "       [ 1.,  2., -2.,  2.,  1.],\n",
       "       [ 2., -0., -0.,  1.,  1.],\n",
       "       [-2., -1.,  1., -0., -1.]])"
      ]
     },
     "execution_count": 9,
     "metadata": {},
     "output_type": "execute_result"
    }
   ],
   "source": [
    "# np.rint函数返回数组中值的最接近整数，并保持dtype不变\n",
    "a\n",
    "np.rint(a)"
   ]
  },
  {
   "cell_type": "code",
   "execution_count": 10,
   "metadata": {
    "ExecuteTime": {
     "end_time": "2018-11-12T02:57:44.776026Z",
     "start_time": "2018-11-12T02:57:44.760403Z"
    },
    "scrolled": true
   },
   "outputs": [
    {
     "data": {
      "text/plain": [
       "array([[ 0.6770179 ,  0.9802372 ,  1.53614233, -0.14298898, -2.68005102],\n",
       "       [-0.25716183,  0.23388045,  0.23859743,  0.886875  ,  0.81803128],\n",
       "       [ 0.88843535,  1.88501049, -2.26213526,  2.06498293,  0.63403046],\n",
       "       [ 2.47884657, -0.41759163, -0.08797613,  0.62635667,  0.74742124],\n",
       "       [-1.66045624, -0.51602761,  0.93302137, -0.38551263, -0.5579547 ]])"
      ]
     },
     "execution_count": 10,
     "metadata": {},
     "output_type": "execute_result"
    },
    {
     "data": {
      "text/plain": [
       "(array([[ 0.6770179 ,  0.9802372 ,  0.53614233, -0.14298898, -0.68005102],\n",
       "        [-0.25716183,  0.23388045,  0.23859743,  0.886875  ,  0.81803128],\n",
       "        [ 0.88843535,  0.88501049, -0.26213526,  0.06498293,  0.63403046],\n",
       "        [ 0.47884657, -0.41759163, -0.08797613,  0.62635667,  0.74742124],\n",
       "        [-0.66045624, -0.51602761,  0.93302137, -0.38551263, -0.5579547 ]]),\n",
       " array([[ 0.,  0.,  1., -0., -2.],\n",
       "        [-0.,  0.,  0.,  0.,  0.],\n",
       "        [ 0.,  1., -2.,  2.,  0.],\n",
       "        [ 2., -0., -0.,  0.,  0.],\n",
       "        [-1., -0.,  0., -0., -0.]]))"
      ]
     },
     "execution_count": 10,
     "metadata": {},
     "output_type": "execute_result"
    }
   ],
   "source": [
    "# np.modf函数返回数组中值的整数部分和小数部分，以一个包含两个array数组的元组形式返回\n",
    "a\n",
    "np.modf(a)"
   ]
  },
  {
   "cell_type": "markdown",
   "metadata": {},
   "source": [
    "## 1.6 ```np.isnan```和```np.isfinite\\np.isinf```函数"
   ]
  },
  {
   "cell_type": "code",
   "execution_count": 11,
   "metadata": {
    "ExecuteTime": {
     "end_time": "2018-11-12T02:57:44.791646Z",
     "start_time": "2018-11-12T02:57:44.776026Z"
    }
   },
   "outputs": [
    {
     "data": {
      "text/plain": [
       "array([[False, False, False, False, False],\n",
       "       [False,  True, False, False, False],\n",
       "       [False, False, False, False, False]])"
      ]
     },
     "execution_count": 11,
     "metadata": {},
     "output_type": "execute_result"
    }
   ],
   "source": [
    "# np.isnan函数判断数组中值是否为NaN\n",
    "a = np.random.randn(3,5)\n",
    "a[1,1] = np.nan\n",
    "np.isnan(a)"
   ]
  },
  {
   "cell_type": "code",
   "execution_count": 12,
   "metadata": {
    "ExecuteTime": {
     "end_time": "2018-11-12T02:57:44.807266Z",
     "start_time": "2018-11-12T02:57:44.791646Z"
    }
   },
   "outputs": [
    {
     "data": {
      "text/plain": [
       "array([[ True,  True,  True,  True,  True],\n",
       "       [ True, False,  True,  True,  True],\n",
       "       [ True,  True,  True,  True,  True]])"
      ]
     },
     "execution_count": 12,
     "metadata": {},
     "output_type": "execute_result"
    }
   ],
   "source": [
    "# np.isfinite函数判断数组中值是否为有限的（非无限或NaN）\n",
    "a = np.random.randn(3,5)\n",
    "a[1,1] = np.nan\n",
    "np.isfinite(a)"
   ]
  },
  {
   "cell_type": "code",
   "execution_count": 13,
   "metadata": {
    "ExecuteTime": {
     "end_time": "2018-11-12T02:57:44.838511Z",
     "start_time": "2018-11-12T02:57:44.807266Z"
    }
   },
   "outputs": [
    {
     "data": {
      "text/plain": [
       "array([1, 1, 0])"
      ]
     },
     "execution_count": 13,
     "metadata": {},
     "output_type": "execute_result"
    },
    {
     "data": {
      "text/plain": [
       "array([1, 1, 0])"
      ]
     },
     "execution_count": 13,
     "metadata": {},
     "output_type": "execute_result"
    }
   ],
   "source": [
    "# np.isinf函数判断数组中值是否为无限大，同时可以指定out参数以就地将返回结果赋值\n",
    "y=np.array([1,1,1])\n",
    "np.isinf(np.array([np.inf,-np.inf,np.nan]),y)\n",
    "y"
   ]
  },
  {
   "cell_type": "markdown",
   "metadata": {
    "ExecuteTime": {
     "end_time": "2018-11-11T06:40:20.906883Z",
     "start_time": "2018-11-11T06:40:20.875633Z"
    }
   },
   "source": [
    "## 1.7 一系列三角函数\n",
    "> sin,cos,tan\n",
    "\n",
    "> sinh,cosh,tanh\n",
    "\n",
    ">arcsin,arccos,arctan\n",
    "\n",
    ">arcsinh,arccosh,arctanh"
   ]
  },
  {
   "cell_type": "markdown",
   "metadata": {},
   "source": [
    "## 1.8 ```np.logical_not\\np.logical_and\\np.logical_or\\np.logical_xor```函数"
   ]
  },
  {
   "cell_type": "code",
   "execution_count": 14,
   "metadata": {
    "ExecuteTime": {
     "end_time": "2018-11-12T02:57:44.876276Z",
     "start_time": "2018-11-12T02:57:44.838511Z"
    }
   },
   "outputs": [
    {
     "data": {
      "text/plain": [
       "array([False, False, False,  True, False])"
      ]
     },
     "execution_count": 14,
     "metadata": {},
     "output_type": "execute_result"
    },
    {
     "data": {
      "text/plain": [
       "array([False, False, False,  True,  True])"
      ]
     },
     "execution_count": 14,
     "metadata": {},
     "output_type": "execute_result"
    },
    {
     "data": {
      "text/plain": [
       "array([ True, False, False, False,  True])"
      ]
     },
     "execution_count": 14,
     "metadata": {},
     "output_type": "execute_result"
    },
    {
     "data": {
      "text/plain": [
       "array([ True, False, False, False,  True])"
      ]
     },
     "execution_count": 14,
     "metadata": {},
     "output_type": "execute_result"
    }
   ],
   "source": [
    "# XOR为异或运算，表示两个值相同时返回0，两个值不同时返回1\n",
    "a = np.arange(5)\n",
    "np.logical_and(a>2, a<4)\n",
    "np.logical_not(a<3)\n",
    "np.logical_or(a>3, a<1)\n",
    "np.logical_xor(a>3, a<1)"
   ]
  },
  {
   "cell_type": "markdown",
   "metadata": {
    "slideshow": {
     "slide_type": "slide"
    }
   },
   "source": [
    "# 2 二元通用函数"
   ]
  },
  {
   "cell_type": "markdown",
   "metadata": {
    "slideshow": {
     "slide_type": "slide"
    }
   },
   "source": [
    "## 2.1 ```np.add\\np.subtract\\np.multiply\\np.divide\\np.floor_divide```加减乘除及整除运算"
   ]
  },
  {
   "cell_type": "code",
   "execution_count": 15,
   "metadata": {
    "ExecuteTime": {
     "end_time": "2018-11-12T02:57:44.907520Z",
     "start_time": "2018-11-12T02:57:44.876276Z"
    }
   },
   "outputs": [
    {
     "data": {
      "text/plain": [
       "array([[ 0.50130431, -1.54581474,  1.31943337,  1.5204367 ,  0.2795955 ],\n",
       "       [ 0.21134351, -0.19400501,  0.91712403,  0.29428362,  0.26162154],\n",
       "       [-1.63380347,  0.3820166 , -0.95903849,  1.46898097, -1.10425618],\n",
       "       [-0.58847182,  0.65203337, -1.29518984, -1.0467641 ,  0.39757557],\n",
       "       [ 1.00227447, -1.45738517,  0.37080432,  0.01322235, -2.08997768]])"
      ]
     },
     "execution_count": 15,
     "metadata": {},
     "output_type": "execute_result"
    },
    {
     "data": {
      "text/plain": [
       "array([[-0.50130431,  1.54581474, -1.31943337, -1.5204367 , -0.2795955 ],\n",
       "       [-0.21134351,  0.19400501, -0.91712403, -0.29428362, -0.26162154],\n",
       "       [ 1.63380347, -0.3820166 ,  0.95903849, -1.46898097,  1.10425618],\n",
       "       [ 0.58847182, -0.65203337,  1.29518984,  1.0467641 , -0.39757557],\n",
       "       [-1.00227447,  1.45738517, -0.37080432, -0.01322235,  2.08997768]])"
      ]
     },
     "execution_count": 15,
     "metadata": {},
     "output_type": "execute_result"
    },
    {
     "data": {
      "text/plain": [
       "array([[ 0., -0.,  0.,  0.,  0.],\n",
       "       [ 0., -0.,  0.,  0.,  0.],\n",
       "       [-0.,  0., -0.,  0., -0.],\n",
       "       [-0.,  0., -0., -0.,  0.],\n",
       "       [ 0., -0.,  0.,  0., -0.]])"
      ]
     },
     "execution_count": 15,
     "metadata": {},
     "output_type": "execute_result"
    }
   ],
   "source": [
    "a = np.zeros((5,5))\n",
    "b = np.random.randn(5,5)\n",
    "np.add(a,b)\n",
    "np.subtract(a,b)\n",
    "np.multiply(a,b)"
   ]
  },
  {
   "cell_type": "code",
   "execution_count": 16,
   "metadata": {
    "ExecuteTime": {
     "end_time": "2018-11-12T02:57:44.938762Z",
     "start_time": "2018-11-12T02:57:44.907520Z"
    }
   },
   "outputs": [
    {
     "data": {
      "text/plain": [
       "array([0.5, 1. , 1.5, 2. ])"
      ]
     },
     "execution_count": 16,
     "metadata": {},
     "output_type": "execute_result"
    },
    {
     "data": {
      "text/plain": [
       "array([0, 1, 1, 2], dtype=int32)"
      ]
     },
     "execution_count": 16,
     "metadata": {},
     "output_type": "execute_result"
    }
   ],
   "source": [
    "# np.floor_divide运算返回除法运算的整数部分\n",
    "a = np.array([1,2,3,4])\n",
    "b = np.array([2,2,2,2])\n",
    "np.divide(a,b)\n",
    "np.floor_divide(a,b)"
   ]
  },
  {
   "cell_type": "markdown",
   "metadata": {
    "ExecuteTime": {
     "end_time": "2018-11-11T08:05:01.996198Z",
     "start_time": "2018-11-11T08:05:01.982652Z"
    }
   },
   "source": [
    "## 2.2 ```np.power```乘方运算"
   ]
  },
  {
   "cell_type": "code",
   "execution_count": 17,
   "metadata": {
    "ExecuteTime": {
     "end_time": "2018-11-12T02:57:44.960902Z",
     "start_time": "2018-11-12T02:57:44.938762Z"
    }
   },
   "outputs": [
    {
     "data": {
      "text/plain": [
       "array([[  0,   1,   8],\n",
       "       [  3,  16, 125],\n",
       "       [  6,  49, 512]], dtype=int32)"
      ]
     },
     "execution_count": 17,
     "metadata": {},
     "output_type": "execute_result"
    }
   ],
   "source": [
    "a = np.arange(9).reshape(3,3)\n",
    "np.power(a,[1,2,3])"
   ]
  },
  {
   "cell_type": "markdown",
   "metadata": {},
   "source": [
    "## 2.3 ```np.maximum\\np.fmax```函数(```np.minimun\\np.fmin```同理)"
   ]
  },
  {
   "cell_type": "code",
   "execution_count": 18,
   "metadata": {
    "ExecuteTime": {
     "end_time": "2018-11-12T02:57:44.976530Z",
     "start_time": "2018-11-12T02:57:44.960902Z"
    }
   },
   "outputs": [
    {
     "data": {
      "text/plain": [
       "array([[1, 2, 3],\n",
       "       [4, 5, 6],\n",
       "       [7, 8, 9]])"
      ]
     },
     "execution_count": 18,
     "metadata": {},
     "output_type": "execute_result"
    }
   ],
   "source": [
    "# np.maximum函数返回数组中的最大值\n",
    "a = np.arange(9).reshape(3,3)\n",
    "b = a+1\n",
    "np.maximum(a,b)"
   ]
  },
  {
   "cell_type": "code",
   "execution_count": 19,
   "metadata": {
    "ExecuteTime": {
     "end_time": "2018-11-12T02:57:45.007767Z",
     "start_time": "2018-11-12T02:57:44.976530Z"
    }
   },
   "outputs": [
    {
     "data": {
      "text/plain": [
       "array([[ 0.,  1.,  2.],\n",
       "       [nan,  4.,  5.],\n",
       "       [ 6.,  7.,  8.]])"
      ]
     },
     "execution_count": 19,
     "metadata": {},
     "output_type": "execute_result"
    },
    {
     "data": {
      "text/plain": [
       "array([[1., 2., 3.],\n",
       "       [4., 5., 6.],\n",
       "       [7., 8., 9.]])"
      ]
     },
     "execution_count": 19,
     "metadata": {},
     "output_type": "execute_result"
    }
   ],
   "source": [
    "# np.fmax返回数组中的最大值并且忽略NaN\n",
    "a = np.array([[0,1,2],[np.nan,4,5],[6,7,8]])\n",
    "a\n",
    "b = np.arange(1,10).reshape(3,3)\n",
    "# np.maximum(a,b)\n",
    "np.fmax(a,b)"
   ]
  },
  {
   "cell_type": "markdown",
   "metadata": {},
   "source": [
    "## 2.4 ```np.mod```求余函数"
   ]
  },
  {
   "cell_type": "code",
   "execution_count": 20,
   "metadata": {
    "ExecuteTime": {
     "end_time": "2018-11-12T02:57:45.038855Z",
     "start_time": "2018-11-12T02:57:45.007767Z"
    }
   },
   "outputs": [
    {
     "data": {
      "text/plain": [
       "array([1, 0, 1], dtype=int32)"
      ]
     },
     "execution_count": 20,
     "metadata": {},
     "output_type": "execute_result"
    }
   ],
   "source": [
    "np.mod([1,2,3],2)"
   ]
  },
  {
   "cell_type": "markdown",
   "metadata": {},
   "source": [
    "## 2.5 ```np.copysign```复制正负函数"
   ]
  },
  {
   "cell_type": "code",
   "execution_count": 21,
   "metadata": {
    "ExecuteTime": {
     "end_time": "2018-11-12T02:57:45.061217Z",
     "start_time": "2018-11-12T02:57:45.045588Z"
    }
   },
   "outputs": [
    {
     "data": {
      "text/plain": [
       "array([-1., -2., -3.])"
      ]
     },
     "execution_count": 21,
     "metadata": {},
     "output_type": "execute_result"
    },
    {
     "data": {
      "text/plain": [
       "array([ 1., -2., -3.])"
      ]
     },
     "execution_count": 21,
     "metadata": {},
     "output_type": "execute_result"
    }
   ],
   "source": [
    "np.copysign([1,2,3],-2)\n",
    "np.copysign([1,2,3],[1,-2,-3])"
   ]
  },
  {
   "cell_type": "markdown",
   "metadata": {},
   "source": [
    "## 2.6 一系列比较运算符 $>,\\ge,<,\\le,==,!=$"
   ]
  },
  {
   "cell_type": "code",
   "execution_count": 22,
   "metadata": {
    "ExecuteTime": {
     "end_time": "2018-11-12T02:57:45.092459Z",
     "start_time": "2018-11-12T02:57:45.061217Z"
    }
   },
   "outputs": [
    {
     "data": {
      "text/plain": [
       "<ufunc 'greater'>"
      ]
     },
     "execution_count": 22,
     "metadata": {},
     "output_type": "execute_result"
    },
    {
     "data": {
      "text/plain": [
       "<ufunc 'greater_equal'>"
      ]
     },
     "execution_count": 22,
     "metadata": {},
     "output_type": "execute_result"
    },
    {
     "data": {
      "text/plain": [
       "<ufunc 'less'>"
      ]
     },
     "execution_count": 22,
     "metadata": {},
     "output_type": "execute_result"
    },
    {
     "data": {
      "text/plain": [
       "<ufunc 'less_equal'>"
      ]
     },
     "execution_count": 22,
     "metadata": {},
     "output_type": "execute_result"
    },
    {
     "data": {
      "text/plain": [
       "<ufunc 'equal'>"
      ]
     },
     "execution_count": 22,
     "metadata": {},
     "output_type": "execute_result"
    },
    {
     "data": {
      "text/plain": [
       "<ufunc 'not_equal'>"
      ]
     },
     "execution_count": 22,
     "metadata": {},
     "output_type": "execute_result"
    }
   ],
   "source": [
    "# 大于\n",
    "np.greater\n",
    "# 大于等于\n",
    "np.greater_equal\n",
    "# 小于\n",
    "np.less\n",
    "# 小于等于\n",
    "np.less_equal\n",
    "# 等于\n",
    "np.equal\n",
    "# 不等于\n",
    "np.not_equal"
   ]
  }
 ],
 "metadata": {
  "kernelspec": {
   "display_name": "Python 3",
   "language": "python",
   "name": "python3"
  },
  "language_info": {
   "codemirror_mode": {
    "name": "ipython",
    "version": 3
   },
   "file_extension": ".py",
   "mimetype": "text/x-python",
   "name": "python",
   "nbconvert_exporter": "python",
   "pygments_lexer": "ipython3",
   "version": "3.6.5"
  },
  "toc": {
   "base_numbering": "1",
   "nav_menu": {
    "height": "247px",
    "width": "604px"
   },
   "number_sections": false,
   "sideBar": true,
   "skip_h1_title": false,
   "title_cell": "Table of Contents",
   "title_sidebar": "Contents",
   "toc_cell": false,
   "toc_position": {},
   "toc_section_display": true,
   "toc_window_display": true
  },
  "varInspector": {
   "cols": {
    "lenName": 16,
    "lenType": 16,
    "lenVar": 40
   },
   "kernels_config": {
    "python": {
     "delete_cmd_postfix": "",
     "delete_cmd_prefix": "del ",
     "library": "var_list.py",
     "varRefreshCmd": "print(var_dic_list())"
    },
    "r": {
     "delete_cmd_postfix": ") ",
     "delete_cmd_prefix": "rm(",
     "library": "var_list.r",
     "varRefreshCmd": "cat(var_dic_list()) "
    }
   },
   "types_to_exclude": [
    "module",
    "function",
    "builtin_function_or_method",
    "instance",
    "_Feature"
   ],
   "window_display": false
  }
 },
 "nbformat": 4,
 "nbformat_minor": 2
}
