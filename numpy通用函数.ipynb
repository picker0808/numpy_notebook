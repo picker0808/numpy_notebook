{
 "cells": [
  {
   "cell_type": "markdown",
   "metadata": {
    "ExecuteTime": {
     "end_time": "2018-11-10T09:38:02.656887Z",
     "start_time": "2018-11-10T09:38:02.641264Z"
    }
   },
   "source": [
    "# 1 一元通用函数"
   ]
  },
  {
   "cell_type": "markdown",
   "metadata": {},
   "source": [
    "## 1.1 ```np.abs```和```np.fabs```都能够返回数组的绝对值。\n",
    "- ```np.abs()```能够返回**复数**的绝对值\n",
    "- ```np.fabs()```只能够返回**浮点数**和**整数**的绝对值"
   ]
  },
  {
   "cell_type": "markdown",
   "metadata": {
    "ExecuteTime": {
     "end_time": "2018-11-10T10:34:45.376571Z",
     "start_time": "2018-11-10T10:34:45.333684Z"
    }
   },
   "source": [
    "## 1.2 ```np.sqrt```和```np.square```分别求根和平方"
   ]
  },
  {
   "cell_type": "code",
   "execution_count": 19,
   "metadata": {
    "ExecuteTime": {
     "end_time": "2018-11-10T11:02:56.185004Z",
     "start_time": "2018-11-10T11:02:56.153761Z"
    },
    "scrolled": true
   },
   "outputs": [
    {
     "data": {
      "text/plain": [
       "array([1.        , 1.41421356, 1.73205081, 2.        , 2.23606798])"
      ]
     },
     "execution_count": 19,
     "metadata": {},
     "output_type": "execute_result"
    },
    {
     "data": {
      "text/plain": [
       "array([ 1,  4,  9, 16, 25], dtype=int32)"
      ]
     },
     "execution_count": 19,
     "metadata": {},
     "output_type": "execute_result"
    }
   ],
   "source": [
    "a = np.array([1,2,3,4,5])\n",
    "np.sqrt(a)\n",
    "np.square(a)"
   ]
  },
  {
   "cell_type": "markdown",
   "metadata": {},
   "source": [
    "## 1.3 ```np.exp```、```np.log```、```np.log10```、```np.log2```、```np.log1p```等对数函数"
   ]
  },
  {
   "cell_type": "markdown",
   "metadata": {},
   "source": [
    "* ```np.exp```即求$e^x$的值"
   ]
  },
  {
   "cell_type": "code",
   "execution_count": 3,
   "metadata": {
    "ExecuteTime": {
     "end_time": "2018-11-11T05:16:02.798693Z",
     "start_time": "2018-11-11T05:16:02.767451Z"
    }
   },
   "outputs": [
    {
     "data": {
      "text/plain": [
       "array([ 2.71828183,  7.3890561 , 20.08553692, 54.59815003])"
      ]
     },
     "execution_count": 3,
     "metadata": {},
     "output_type": "execute_result"
    }
   ],
   "source": [
    "a = np.array([1,2,3,4])\n",
    "np.exp(a)"
   ]
  },
  {
   "cell_type": "markdown",
   "metadata": {},
   "source": [
    "* ```np.log```即求$lnx$的值"
   ]
  },
  {
   "cell_type": "code",
   "execution_count": 2,
   "metadata": {
    "ExecuteTime": {
     "end_time": "2018-11-11T05:15:36.726672Z",
     "start_time": "2018-11-11T05:15:36.570460Z"
    }
   },
   "outputs": [
    {
     "data": {
      "text/plain": [
       "array([0.        , 0.69314718, 1.09861229, 1.38629436])"
      ]
     },
     "execution_count": 2,
     "metadata": {},
     "output_type": "execute_result"
    }
   ],
   "source": [
    "a = np.array([1,2,3,4])\n",
    "np.log(a)"
   ]
  },
  {
   "cell_type": "markdown",
   "metadata": {
    "ExecuteTime": {
     "end_time": "2018-11-11T05:17:16.812612Z",
     "start_time": "2018-11-11T05:17:16.781368Z"
    }
   },
   "source": [
    "* ```np.log10```即求$log_{10}x$的值,```np.log2```同理"
   ]
  },
  {
   "cell_type": "code",
   "execution_count": 5,
   "metadata": {
    "ExecuteTime": {
     "end_time": "2018-11-11T05:18:47.587626Z",
     "start_time": "2018-11-11T05:18:47.556384Z"
    }
   },
   "outputs": [
    {
     "data": {
      "text/plain": [
       "array([1., 2., 3., 4.])"
      ]
     },
     "execution_count": 5,
     "metadata": {},
     "output_type": "execute_result"
    }
   ],
   "source": [
    "a = np.array([10,100,1000,10000])\n",
    "np.log10(a)"
   ]
  },
  {
   "cell_type": "markdown",
   "metadata": {},
   "source": [
    "* ```np.log1p```即$ln(1+x)$的值"
   ]
  },
  {
   "cell_type": "code",
   "execution_count": 7,
   "metadata": {
    "ExecuteTime": {
     "end_time": "2018-11-11T05:22:44.403066Z",
     "start_time": "2018-11-11T05:22:44.371821Z"
    },
    "scrolled": true
   },
   "outputs": [
    {
     "data": {
      "text/plain": [
       "array([   10,   100,  1000, 10000])"
      ]
     },
     "execution_count": 7,
     "metadata": {},
     "output_type": "execute_result"
    },
    {
     "data": {
      "text/plain": [
       "array([2.39789527, 4.61512052, 6.90875478, 9.21044037])"
      ]
     },
     "execution_count": 7,
     "metadata": {},
     "output_type": "execute_result"
    }
   ],
   "source": [
    "a\n",
    "np.log1p(a)"
   ]
  },
  {
   "cell_type": "markdown",
   "metadata": {},
   "source": [
    "## 1.4 ```np.sign```和```np.ceil\\np.floor```函数"
   ]
  },
  {
   "cell_type": "code",
   "execution_count": 9,
   "metadata": {
    "ExecuteTime": {
     "end_time": "2018-11-11T05:29:31.712298Z",
     "start_time": "2018-11-11T05:29:31.695345Z"
    },
    "scrolled": true
   },
   "outputs": [
    {
     "data": {
      "text/plain": [
       "array([[ 1.,  1., -1.,  1., -1.],\n",
       "       [-1., -1.,  1., -1.,  1.],\n",
       "       [ 1., -1., -1., -1., -1.],\n",
       "       [ 1., -1.,  1., -1.,  1.],\n",
       "       [ 1.,  1., -1., -1., -1.]])"
      ]
     },
     "execution_count": 9,
     "metadata": {},
     "output_type": "execute_result"
    }
   ],
   "source": [
    "# np.sign函数用以标记数组中的值正负：1表示正，-1表示负，0表示零\n",
    "a = np.random.randn(5,5)\n",
    "np.sign(a)"
   ]
  },
  {
   "cell_type": "code",
   "execution_count": 12,
   "metadata": {
    "ExecuteTime": {
     "end_time": "2018-11-11T05:31:38.555989Z",
     "start_time": "2018-11-11T05:31:38.543026Z"
    },
    "scrolled": true
   },
   "outputs": [
    {
     "data": {
      "text/plain": [
       "array([[  1.31354077,  14.54641875,  -4.44489551,   2.34422805,\n",
       "         -4.97131741],\n",
       "       [ -0.36714813, -12.02330032,   0.51947347, -19.14328079,\n",
       "          2.73529789],\n",
       "       [ 11.01456226, -22.91808392,  -4.50144306,  -4.36061473,\n",
       "         -7.5474979 ],\n",
       "       [  2.26103602,  -3.54015623,   2.81844538, -18.18179376,\n",
       "          1.60521052],\n",
       "       [  8.39208871,   7.43038279, -13.21049845,  -3.34854022,\n",
       "        -11.75257947]])"
      ]
     },
     "execution_count": 12,
     "metadata": {},
     "output_type": "execute_result"
    },
    {
     "data": {
      "text/plain": [
       "array([[  2.,  15.,  -4.,   3.,  -4.],\n",
       "       [ -0., -12.,   1., -19.,   3.],\n",
       "       [ 12., -22.,  -4.,  -4.,  -7.],\n",
       "       [  3.,  -3.,   3., -18.,   2.],\n",
       "       [  9.,   8., -13.,  -3., -11.]])"
      ]
     },
     "execution_count": 12,
     "metadata": {},
     "output_type": "execute_result"
    }
   ],
   "source": [
    "# np.ceil函数返回数组中每个值的“ceil value”，即大于当前值的最小值\n",
    "a*10\n",
    "np.ceil(a*10)"
   ]
  },
  {
   "cell_type": "code",
   "execution_count": 13,
   "metadata": {
    "ExecuteTime": {
     "end_time": "2018-11-11T06:17:34.915468Z",
     "start_time": "2018-11-11T06:17:34.884227Z"
    },
    "scrolled": true
   },
   "outputs": [
    {
     "data": {
      "text/plain": [
       "array([[  1.31354077,  14.54641875,  -4.44489551,   2.34422805,\n",
       "         -4.97131741],\n",
       "       [ -0.36714813, -12.02330032,   0.51947347, -19.14328079,\n",
       "          2.73529789],\n",
       "       [ 11.01456226, -22.91808392,  -4.50144306,  -4.36061473,\n",
       "         -7.5474979 ],\n",
       "       [  2.26103602,  -3.54015623,   2.81844538, -18.18179376,\n",
       "          1.60521052],\n",
       "       [  8.39208871,   7.43038279, -13.21049845,  -3.34854022,\n",
       "        -11.75257947]])"
      ]
     },
     "execution_count": 13,
     "metadata": {},
     "output_type": "execute_result"
    },
    {
     "data": {
      "text/plain": [
       "array([[  1.,  14.,  -5.,   2.,  -5.],\n",
       "       [ -1., -13.,   0., -20.,   2.],\n",
       "       [ 11., -23.,  -5.,  -5.,  -8.],\n",
       "       [  2.,  -4.,   2., -19.,   1.],\n",
       "       [  8.,   7., -14.,  -4., -12.]])"
      ]
     },
     "execution_count": 13,
     "metadata": {},
     "output_type": "execute_result"
    }
   ],
   "source": [
    "# np.floor函数返回数组中每个值的“floor value”，即小于当前值的最大值\n",
    "a*10\n",
    "np.floor(a*10)"
   ]
  },
  {
   "cell_type": "markdown",
   "metadata": {},
   "source": [
    "## 1.5 ```np.rint```和```np.modf```函数"
   ]
  },
  {
   "cell_type": "code",
   "execution_count": 14,
   "metadata": {
    "ExecuteTime": {
     "end_time": "2018-11-11T06:19:24.376942Z",
     "start_time": "2018-11-11T06:19:24.345699Z"
    },
    "scrolled": false
   },
   "outputs": [
    {
     "data": {
      "text/plain": [
       "array([[ 0.13135408,  1.45464187, -0.44448955,  0.2344228 , -0.49713174],\n",
       "       [-0.03671481, -1.20233003,  0.05194735, -1.91432808,  0.27352979],\n",
       "       [ 1.10145623, -2.29180839, -0.45014431, -0.43606147, -0.75474979],\n",
       "       [ 0.2261036 , -0.35401562,  0.28184454, -1.81817938,  0.16052105],\n",
       "       [ 0.83920887,  0.74303828, -1.32104985, -0.33485402, -1.17525795]])"
      ]
     },
     "execution_count": 14,
     "metadata": {},
     "output_type": "execute_result"
    },
    {
     "data": {
      "text/plain": [
       "array([[ 0.,  1., -0.,  0., -0.],\n",
       "       [-0., -1.,  0., -2.,  0.],\n",
       "       [ 1., -2., -0., -0., -1.],\n",
       "       [ 0., -0.,  0., -2.,  0.],\n",
       "       [ 1.,  1., -1., -0., -1.]])"
      ]
     },
     "execution_count": 14,
     "metadata": {},
     "output_type": "execute_result"
    }
   ],
   "source": [
    "# np.rint函数返回数组中值的最接近整数，并保持dtype不变\n",
    "a\n",
    "np.rint(a)"
   ]
  },
  {
   "cell_type": "code",
   "execution_count": 15,
   "metadata": {
    "ExecuteTime": {
     "end_time": "2018-11-11T06:21:48.895978Z",
     "start_time": "2018-11-11T06:21:48.583551Z"
    },
    "scrolled": true
   },
   "outputs": [
    {
     "data": {
      "text/plain": [
       "array([[ 0.13135408,  1.45464187, -0.44448955,  0.2344228 , -0.49713174],\n",
       "       [-0.03671481, -1.20233003,  0.05194735, -1.91432808,  0.27352979],\n",
       "       [ 1.10145623, -2.29180839, -0.45014431, -0.43606147, -0.75474979],\n",
       "       [ 0.2261036 , -0.35401562,  0.28184454, -1.81817938,  0.16052105],\n",
       "       [ 0.83920887,  0.74303828, -1.32104985, -0.33485402, -1.17525795]])"
      ]
     },
     "execution_count": 15,
     "metadata": {},
     "output_type": "execute_result"
    },
    {
     "data": {
      "text/plain": [
       "(array([[ 0.13135408,  0.45464187, -0.44448955,  0.2344228 , -0.49713174],\n",
       "        [-0.03671481, -0.20233003,  0.05194735, -0.91432808,  0.27352979],\n",
       "        [ 0.10145623, -0.29180839, -0.45014431, -0.43606147, -0.75474979],\n",
       "        [ 0.2261036 , -0.35401562,  0.28184454, -0.81817938,  0.16052105],\n",
       "        [ 0.83920887,  0.74303828, -0.32104985, -0.33485402, -0.17525795]]),\n",
       " array([[ 0.,  1., -0.,  0., -0.],\n",
       "        [-0., -1.,  0., -1.,  0.],\n",
       "        [ 1., -2., -0., -0., -0.],\n",
       "        [ 0., -0.,  0., -1.,  0.],\n",
       "        [ 0.,  0., -1., -0., -1.]]))"
      ]
     },
     "execution_count": 15,
     "metadata": {},
     "output_type": "execute_result"
    }
   ],
   "source": [
    "# np.modf函数返回数组中值的整数部分和小数部分，以一个包含两个array数组的元组形式返回\n",
    "a\n",
    "np.modf(a)"
   ]
  },
  {
   "cell_type": "markdown",
   "metadata": {},
   "source": [
    "## 1.6 ```np.isnan```和```np.isfinite\\np.isinf```函数"
   ]
  },
  {
   "cell_type": "code",
   "execution_count": 21,
   "metadata": {
    "ExecuteTime": {
     "end_time": "2018-11-11T06:28:38.323508Z",
     "start_time": "2018-11-11T06:28:38.307885Z"
    }
   },
   "outputs": [
    {
     "data": {
      "text/plain": [
       "array([[False, False, False, False, False],\n",
       "       [False,  True, False, False, False],\n",
       "       [False, False, False, False, False]])"
      ]
     },
     "execution_count": 21,
     "metadata": {},
     "output_type": "execute_result"
    }
   ],
   "source": [
    "# np.isnan函数判断数组中值是否为NaN\n",
    "a = np.random.randn(3,5)\n",
    "a[1,1] = np.nan\n",
    "np.isnan(a)"
   ]
  },
  {
   "cell_type": "code",
   "execution_count": 26,
   "metadata": {
    "ExecuteTime": {
     "end_time": "2018-11-11T06:30:47.820730Z",
     "start_time": "2018-11-11T06:30:47.789491Z"
    }
   },
   "outputs": [
    {
     "data": {
      "text/plain": [
       "array([[ 0.01763078,  0.02206546,  0.57504753,  0.19743855, -1.08848307],\n",
       "       [-0.61869512,         nan,  0.33333333,  1.54992949,  1.82879915],\n",
       "       [-1.70022779,  0.42412349, -1.47988864,  1.4839917 , -1.04093844]])"
      ]
     },
     "execution_count": 26,
     "metadata": {},
     "output_type": "execute_result"
    },
    {
     "data": {
      "text/plain": [
       "array([[ True,  True,  True,  True,  True],\n",
       "       [ True, False,  True,  True,  True],\n",
       "       [ True,  True,  True,  True,  True]])"
      ]
     },
     "execution_count": 26,
     "metadata": {},
     "output_type": "execute_result"
    }
   ],
   "source": [
    "# np.isfinite函数判断数组中值是否为有限的（非无限或NaN）\n",
    "a = np.random.randn(3,5)\n",
    "a[1,1] = np.nan\n",
    "np.isfinite(a)"
   ]
  },
  {
   "cell_type": "code",
   "execution_count": 36,
   "metadata": {
    "ExecuteTime": {
     "end_time": "2018-11-11T06:35:57.611119Z",
     "start_time": "2018-11-11T06:35:57.599154Z"
    }
   },
   "outputs": [
    {
     "data": {
      "text/plain": [
       "array([1, 1, 0])"
      ]
     },
     "execution_count": 36,
     "metadata": {},
     "output_type": "execute_result"
    },
    {
     "data": {
      "text/plain": [
       "array([1, 1, 0])"
      ]
     },
     "execution_count": 36,
     "metadata": {},
     "output_type": "execute_result"
    }
   ],
   "source": [
    "# np.isinf函数判断数组中值是否为无限大，同时可以指定out参数以就地将返回结果赋值\n",
    "y=np.array([1,1,1])\n",
    "np.isinf(np.array([np.inf,-np.inf,np.nan]),y)\n",
    "y"
   ]
  },
  {
   "cell_type": "markdown",
   "metadata": {
    "ExecuteTime": {
     "end_time": "2018-11-11T06:40:20.906883Z",
     "start_time": "2018-11-11T06:40:20.875633Z"
    }
   },
   "source": [
    "## 1.7 一系列三角函数\n",
    "> sin,cos,tan\n",
    "\n",
    "> sinh,cosh,tanh\n",
    "\n",
    ">arcsin,arccos,arctan\n",
    "\n",
    ">arcsinh,arccosh,arctanh"
   ]
  },
  {
   "cell_type": "markdown",
   "metadata": {},
   "source": [
    "## 1.8 ```np.logical_not\\np.logical_and\\np.logical_or\\np.logical_xor```函数"
   ]
  },
  {
   "cell_type": "code",
   "execution_count": 48,
   "metadata": {
    "ExecuteTime": {
     "end_time": "2018-11-11T06:48:57.863678Z",
     "start_time": "2018-11-11T06:48:57.845726Z"
    }
   },
   "outputs": [
    {
     "data": {
      "text/plain": [
       "array([False, False, False,  True, False])"
      ]
     },
     "execution_count": 48,
     "metadata": {},
     "output_type": "execute_result"
    },
    {
     "data": {
      "text/plain": [
       "array([False, False, False,  True,  True])"
      ]
     },
     "execution_count": 48,
     "metadata": {},
     "output_type": "execute_result"
    },
    {
     "data": {
      "text/plain": [
       "array([ True, False, False, False,  True])"
      ]
     },
     "execution_count": 48,
     "metadata": {},
     "output_type": "execute_result"
    },
    {
     "data": {
      "text/plain": [
       "array([ True, False, False, False,  True])"
      ]
     },
     "execution_count": 48,
     "metadata": {},
     "output_type": "execute_result"
    }
   ],
   "source": [
    "# XOR为异或运算，表示两个值相同时返回0，两个值不同时返回1\n",
    "a = np.arange(5)\n",
    "np.logical_and(a>2, a<4)\n",
    "np.logical_not(a<3)\n",
    "np.logical_or(a>3, a<1)\n",
    "np.logical_xor(a>3, a<1)"
   ]
  },
  {
   "cell_type": "markdown",
   "metadata": {
    "slideshow": {
     "slide_type": "slide"
    }
   },
   "source": [
    "# 2 二元通用函数"
   ]
  },
  {
   "cell_type": "markdown",
   "metadata": {
    "slideshow": {
     "slide_type": "slide"
    }
   },
   "source": [
    "## 2.1 ```np.add\\np.subtract\\np.multiply\\np.divide\\np.floor_divide```加减乘除及整除运算"
   ]
  },
  {
   "cell_type": "code",
   "execution_count": 62,
   "metadata": {
    "ExecuteTime": {
     "end_time": "2018-11-11T07:59:44.853035Z",
     "start_time": "2018-11-11T07:59:44.826617Z"
    }
   },
   "outputs": [
    {
     "data": {
      "text/plain": [
       "array([[-2.39053062,  0.57485001,  1.60466814,  0.61354767,  0.64951638],\n",
       "       [ 1.60944492, -1.06316097, -0.09033382, -0.10636948, -0.32311009],\n",
       "       [-0.29903563,  0.14937535,  1.07314615,  1.41320316, -2.5653495 ],\n",
       "       [ 0.43889615, -0.62432436,  0.97183208, -0.46231636,  0.60630222],\n",
       "       [-1.52300961, -0.78784933,  0.83791322,  0.68592725, -0.95047968]])"
      ]
     },
     "execution_count": 62,
     "metadata": {},
     "output_type": "execute_result"
    },
    {
     "data": {
      "text/plain": [
       "array([[ 2.39053062, -0.57485001, -1.60466814, -0.61354767, -0.64951638],\n",
       "       [-1.60944492,  1.06316097,  0.09033382,  0.10636948,  0.32311009],\n",
       "       [ 0.29903563, -0.14937535, -1.07314615, -1.41320316,  2.5653495 ],\n",
       "       [-0.43889615,  0.62432436, -0.97183208,  0.46231636, -0.60630222],\n",
       "       [ 1.52300961,  0.78784933, -0.83791322, -0.68592725,  0.95047968]])"
      ]
     },
     "execution_count": 62,
     "metadata": {},
     "output_type": "execute_result"
    },
    {
     "data": {
      "text/plain": [
       "array([[-0.,  0.,  0.,  0.,  0.],\n",
       "       [ 0., -0., -0., -0., -0.],\n",
       "       [-0.,  0.,  0.,  0., -0.],\n",
       "       [ 0., -0.,  0., -0.,  0.],\n",
       "       [-0., -0.,  0.,  0., -0.]])"
      ]
     },
     "execution_count": 62,
     "metadata": {},
     "output_type": "execute_result"
    }
   ],
   "source": [
    "a = np.zeros((5,5))\n",
    "b = np.random.randn(5,5)\n",
    "np.add(a,b)\n",
    "np.subtract(a,b)\n",
    "np.multiply(a,b)"
   ]
  },
  {
   "cell_type": "code",
   "execution_count": 81,
   "metadata": {
    "ExecuteTime": {
     "end_time": "2018-11-11T08:07:48.590510Z",
     "start_time": "2018-11-11T08:07:48.567729Z"
    }
   },
   "outputs": [
    {
     "data": {
      "text/plain": [
       "array([0.5, 1. , 1.5, 2. ])"
      ]
     },
     "execution_count": 81,
     "metadata": {},
     "output_type": "execute_result"
    },
    {
     "data": {
      "text/plain": [
       "array([0, 1, 1, 2], dtype=int32)"
      ]
     },
     "execution_count": 81,
     "metadata": {},
     "output_type": "execute_result"
    }
   ],
   "source": [
    "# np.floor_divide运算返回除法运算的整数部分\n",
    "a = np.array([1,2,3,4])\n",
    "b = np.array([2,2,2,2])\n",
    "np.divide(a,b)\n",
    "np.floor_divide(a,b)"
   ]
  },
  {
   "cell_type": "markdown",
   "metadata": {
    "ExecuteTime": {
     "end_time": "2018-11-11T08:05:01.996198Z",
     "start_time": "2018-11-11T08:05:01.982652Z"
    }
   },
   "source": [
    "## 2.2 ```np.power```乘方运算"
   ]
  },
  {
   "cell_type": "code",
   "execution_count": 83,
   "metadata": {
    "ExecuteTime": {
     "end_time": "2018-11-11T08:10:32.122332Z",
     "start_time": "2018-11-11T08:10:32.104322Z"
    }
   },
   "outputs": [
    {
     "data": {
      "text/plain": [
       "array([[  0,   1,   8],\n",
       "       [  3,  16, 125],\n",
       "       [  6,  49, 512]], dtype=int32)"
      ]
     },
     "execution_count": 83,
     "metadata": {},
     "output_type": "execute_result"
    }
   ],
   "source": [
    "a = np.arange(9).reshape(3,3)\n",
    "np.power(a,[1,2,3])"
   ]
  },
  {
   "cell_type": "markdown",
   "metadata": {},
   "source": [
    "## 2.3 ```np.maximum\\np.fmax```函数(```np.minimun\\np.fmin```同理)"
   ]
  },
  {
   "cell_type": "code",
   "execution_count": 87,
   "metadata": {
    "ExecuteTime": {
     "end_time": "2018-11-11T08:13:36.481473Z",
     "start_time": "2018-11-11T08:13:36.466524Z"
    }
   },
   "outputs": [
    {
     "data": {
      "text/plain": [
       "array([[1, 2, 3],\n",
       "       [4, 5, 6],\n",
       "       [7, 8, 9]])"
      ]
     },
     "execution_count": 87,
     "metadata": {},
     "output_type": "execute_result"
    }
   ],
   "source": [
    "# np.maximum函数返回数组中的最大值\n",
    "a = np.arange(9).reshape(3,3)\n",
    "b = a+1\n",
    "np.maximum(a,b)"
   ]
  },
  {
   "cell_type": "code",
   "execution_count": 93,
   "metadata": {
    "ExecuteTime": {
     "end_time": "2018-11-11T08:18:01.128919Z",
     "start_time": "2018-11-11T08:18:01.103478Z"
    }
   },
   "outputs": [
    {
     "data": {
      "text/plain": [
       "array([[ 0.,  1.,  2.],\n",
       "       [nan,  4.,  5.],\n",
       "       [ 6.,  7.,  8.]])"
      ]
     },
     "execution_count": 93,
     "metadata": {},
     "output_type": "execute_result"
    },
    {
     "data": {
      "text/plain": [
       "array([[1., 2., 3.],\n",
       "       [4., 5., 6.],\n",
       "       [7., 8., 9.]])"
      ]
     },
     "execution_count": 93,
     "metadata": {},
     "output_type": "execute_result"
    }
   ],
   "source": [
    "# np.fmax返回数组中的最大值并且忽略NaN\n",
    "a = np.array([[0,1,2],[np.nan,4,5],[6,7,8]])\n",
    "a\n",
    "b = np.arange(1,10).reshape(3,3)\n",
    "# np.maximum(a,b)\n",
    "np.fmax(a,b)"
   ]
  },
  {
   "cell_type": "markdown",
   "metadata": {},
   "source": [
    "## 2.4 ```np.mod```求余函数"
   ]
  },
  {
   "cell_type": "code",
   "execution_count": 94,
   "metadata": {
    "ExecuteTime": {
     "end_time": "2018-11-11T08:20:24.829174Z",
     "start_time": "2018-11-11T08:20:24.809109Z"
    }
   },
   "outputs": [
    {
     "data": {
      "text/plain": [
       "array([1, 0, 1], dtype=int32)"
      ]
     },
     "execution_count": 94,
     "metadata": {},
     "output_type": "execute_result"
    }
   ],
   "source": [
    "np.mod([1,2,3],2)"
   ]
  },
  {
   "cell_type": "markdown",
   "metadata": {},
   "source": [
    "## 2.5 ```np.copysign```复制正负函数"
   ]
  },
  {
   "cell_type": "code",
   "execution_count": 97,
   "metadata": {
    "ExecuteTime": {
     "end_time": "2018-11-11T08:23:25.272636Z",
     "start_time": "2018-11-11T08:23:25.252370Z"
    }
   },
   "outputs": [
    {
     "data": {
      "text/plain": [
       "array([-1., -2., -3.])"
      ]
     },
     "execution_count": 97,
     "metadata": {},
     "output_type": "execute_result"
    },
    {
     "data": {
      "text/plain": [
       "array([ 1., -2., -3.])"
      ]
     },
     "execution_count": 97,
     "metadata": {},
     "output_type": "execute_result"
    }
   ],
   "source": [
    "np.copysign([1,2,3],-2)\n",
    "np.copysign([1,2,3],[1,-2,-3])"
   ]
  },
  {
   "cell_type": "markdown",
   "metadata": {},
   "source": [
    "## 2.6 一系列比较运算符 $>,\\ge,<,\\le,==,!=$"
   ]
  },
  {
   "cell_type": "code",
   "execution_count": null,
   "metadata": {},
   "outputs": [],
   "source": [
    "# 大于\n",
    "np.greater\n",
    "# 大于等于\n",
    "np.greater_equal\n",
    "# 小于\n",
    "np.less\n",
    "# 小于等于\n",
    "np.less_equal\n",
    "# 等于\n",
    "np.equal\n",
    "# 不等于\n",
    "np.not_equal"
   ]
  }
 ],
 "metadata": {
  "kernelspec": {
   "display_name": "Python 3",
   "language": "python",
   "name": "python3"
  },
  "language_info": {
   "codemirror_mode": {
    "name": "ipython",
    "version": 3
   },
   "file_extension": ".py",
   "mimetype": "text/x-python",
   "name": "python",
   "nbconvert_exporter": "python",
   "pygments_lexer": "ipython3",
   "version": "3.6.5"
  },
  "toc": {
   "base_numbering": "1",
   "nav_menu": {
    "height": "247px",
    "width": "604px"
   },
   "number_sections": false,
   "sideBar": true,
   "skip_h1_title": false,
   "title_cell": "Table of Contents",
   "title_sidebar": "Contents",
   "toc_cell": false,
   "toc_position": {},
   "toc_section_display": true,
   "toc_window_display": true
  },
  "varInspector": {
   "cols": {
    "lenName": 16,
    "lenType": 16,
    "lenVar": 40
   },
   "kernels_config": {
    "python": {
     "delete_cmd_postfix": "",
     "delete_cmd_prefix": "del ",
     "library": "var_list.py",
     "varRefreshCmd": "print(var_dic_list())"
    },
    "r": {
     "delete_cmd_postfix": ") ",
     "delete_cmd_prefix": "rm(",
     "library": "var_list.r",
     "varRefreshCmd": "cat(var_dic_list()) "
    }
   },
   "types_to_exclude": [
    "module",
    "function",
    "builtin_function_or_method",
    "instance",
    "_Feature"
   ],
   "window_display": false
  }
 },
 "nbformat": 4,
 "nbformat_minor": 2
}
